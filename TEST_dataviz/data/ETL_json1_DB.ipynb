{
 "cells": [
  {
   "cell_type": "code",
   "execution_count": 1,
   "metadata": {
    "collapsed": false
   },
   "outputs": [],
   "source": [
    "import pandas as pd\n",
    "import numpy as np\n",
    "from datetime import date\n",
    "import unidecode\n",
    "import json"
   ]
  },
  {
   "cell_type": "code",
   "execution_count": 2,
   "metadata": {
    "collapsed": false
   },
   "outputs": [
    {
     "name": "stdout",
     "output_type": "stream",
     "text": [
      " Le volume dans le lecteur D s'appelle Data\n",
      " Le num‚ro de s‚rie du volume est 44FE-89D6\n",
      "\n",
      " R‚pertoire de D:\\Documents\\Projet_fil_rouge\\Elections\\legislatives\\dataviz\\TEST_dataviz\\data\n",
      "\n",
      "28/06/2017  18:22    <DIR>          .\n",
      "28/06/2017  18:22    <DIR>          ..\n",
      "28/06/2017  16:29             6ÿ148 .DS_Store\n",
      "28/06/2017  11:50    <DIR>          .ipynb_checkpoints\n",
      "27/06/2017  17:35                 0 .Rhistory\n",
      "24/06/2017  17:02           181ÿ777 deputies.json\n",
      "28/06/2017  11:50           165ÿ209 ETL_json1.ipynb\n",
      "27/06/2017  19:16            78ÿ010 ETL_json1_DB.ipynb\n",
      "28/06/2017  11:50            13ÿ655 french.json\n",
      "28/06/2017  16:29    <DIR>          json_viz\n",
      "24/06/2017  17:02         1ÿ541ÿ660 Leg_2017_Resultats_T1_c.xlsx\n",
      "24/06/2017  17:02            59ÿ462 Leg_2017_Resultats_T2_c.csv\n",
      "24/06/2017  17:02           994ÿ859 Leg_2017_Resultats_T2_c.numbers\n",
      "24/06/2017  17:02           658ÿ031 Leg_2017_Resultats_T2_c.xlsx\n",
      "24/06/2017  17:02         1ÿ077ÿ627 liste.csv\n",
      "              11 fichier(s)        4ÿ776ÿ438 octets\n",
      "               4 R‚p(s)  951ÿ535ÿ177ÿ728 octets libres\n"
     ]
    }
   ],
   "source": [
    "ls"
   ]
  },
  {
   "cell_type": "code",
   "execution_count": 4,
   "metadata": {
    "collapsed": false,
    "scrolled": true
   },
   "outputs": [],
   "source": [
    "res = pd.read_csv(\"Leg_2017_Resultats_T2_c.csv\", sep=\";\")\n",
    "htpr = pd.read_csv(\"liste.csv\")"
   ]
  },
  {
   "cell_type": "markdown",
   "metadata": {},
   "source": [
    "## Préparation de la table de résultat"
   ]
  },
  {
   "cell_type": "code",
   "execution_count": 5,
   "metadata": {
    "collapsed": false
   },
   "outputs": [],
   "source": [
    "res = res.rename(columns={\"Né(e)_le\":\"date\"})"
   ]
  },
  {
   "cell_type": "code",
   "execution_count": 6,
   "metadata": {
    "collapsed": true
   },
   "outputs": [],
   "source": [
    "def calculate_age(born):\n",
    "    today = date.today()\n",
    "    born = born.split(\"/\")\n",
    "    born_dict = {\"year\": int(\"19\"+born[2]) ,\"day\":int(born[1]),\"month\":int(born[0]) }\n",
    "    return today.year - born_dict[\"year\"] - ((today.month, today.day) < (born_dict[\"month\"], born_dict[\"day\"]))"
   ]
  },
  {
   "cell_type": "code",
   "execution_count": 7,
   "metadata": {
    "collapsed": false
   },
   "outputs": [
    {
     "data": {
      "text/plain": [
       "43"
      ]
     },
     "execution_count": 7,
     "metadata": {},
     "output_type": "execute_result"
    }
   ],
   "source": [
    "calculate_age(res[\"date\"][0])"
   ]
  },
  {
   "cell_type": "code",
   "execution_count": 8,
   "metadata": {
    "collapsed": true
   },
   "outputs": [],
   "source": [
    "res[\"age\"] = res[\"date\"].map(lambda x : calculate_age(x))"
   ]
  },
  {
   "cell_type": "code",
   "execution_count": 9,
   "metadata": {
    "collapsed": false
   },
   "outputs": [],
   "source": [
    "res[\"nom\"] = res[\"Désignation\"].map(lambda x: unidecode.unidecode(x.split(\" \")[1].strip()).upper())\n",
    "res[\"prenom\"] = res[\"Désignation\"].map(lambda x:unidecode.unidecode(x.split(\" \")[2].strip()).upper())"
   ]
  },
  {
   "cell_type": "code",
   "execution_count": 10,
   "metadata": {
    "collapsed": false
   },
   "outputs": [],
   "source": [
    "res[\"sexe\"] = res[\"Désignation\"].map(lambda x : \"M\" if x.split(\" \")[0]==\"M.\" else \"F\")"
   ]
  },
  {
   "cell_type": "code",
   "execution_count": 11,
   "metadata": {
    "collapsed": false
   },
   "outputs": [
    {
     "data": {
      "text/html": [
       "<div>\n",
       "<table border=\"1\" class=\"dataframe\">\n",
       "  <thead>\n",
       "    <tr style=\"text-align: right;\">\n",
       "      <th></th>\n",
       "      <th>Dpt</th>\n",
       "      <th>Nom_de_la_Circonscription</th>\n",
       "      <th>Désignation</th>\n",
       "      <th>Nuance</th>\n",
       "      <th>Score</th>\n",
       "      <th>Sortant</th>\n",
       "      <th>Perso.</th>\n",
       "      <th>date</th>\n",
       "      <th>Profession</th>\n",
       "      <th>Tour</th>\n",
       "      <th>age</th>\n",
       "      <th>nom</th>\n",
       "      <th>prenom</th>\n",
       "      <th>sexe</th>\n",
       "    </tr>\n",
       "  </thead>\n",
       "  <tbody>\n",
       "    <tr>\n",
       "      <th>0</th>\n",
       "      <td>ZA</td>\n",
       "      <td>1ère circonscription</td>\n",
       "      <td>M. SERVA Olivier</td>\n",
       "      <td>REM</td>\n",
       "      <td>61,74 %</td>\n",
       "      <td>NaN</td>\n",
       "      <td>NaN</td>\n",
       "      <td>6/21/74</td>\n",
       "      <td>34 - Expert comptable</td>\n",
       "      <td>2</td>\n",
       "      <td>43</td>\n",
       "      <td>SERVA</td>\n",
       "      <td>OLIVIER</td>\n",
       "      <td>M</td>\n",
       "    </tr>\n",
       "    <tr>\n",
       "      <th>1</th>\n",
       "      <td>ZA</td>\n",
       "      <td>2ème circonscription</td>\n",
       "      <td>Mme BENIN Justine</td>\n",
       "      <td>DVG</td>\n",
       "      <td>64,26 %</td>\n",
       "      <td>NaN</td>\n",
       "      <td>NaN</td>\n",
       "      <td>3/12/75</td>\n",
       "      <td>48 - Fonctionnaire de catégorie B</td>\n",
       "      <td>2</td>\n",
       "      <td>42</td>\n",
       "      <td>BENIN</td>\n",
       "      <td>JUSTINE</td>\n",
       "      <td>F</td>\n",
       "    </tr>\n",
       "    <tr>\n",
       "      <th>2</th>\n",
       "      <td>ZA</td>\n",
       "      <td>3ème circonscription</td>\n",
       "      <td>M. MATHIASIN Max</td>\n",
       "      <td>DVG</td>\n",
       "      <td>65,15 %</td>\n",
       "      <td>NaN</td>\n",
       "      <td>NaN</td>\n",
       "      <td>2/24/56</td>\n",
       "      <td>52 - Employé (autres entrep. publiques)</td>\n",
       "      <td>2</td>\n",
       "      <td>61</td>\n",
       "      <td>MATHIASIN</td>\n",
       "      <td>MAX</td>\n",
       "      <td>M</td>\n",
       "    </tr>\n",
       "    <tr>\n",
       "      <th>3</th>\n",
       "      <td>ZA</td>\n",
       "      <td>4ème circonscription</td>\n",
       "      <td>Mme VAINQUEUR-CHRISTOPHE Hélène</td>\n",
       "      <td>SOC</td>\n",
       "      <td>61,61 %</td>\n",
       "      <td>NaN</td>\n",
       "      <td>NaN</td>\n",
       "      <td>5/6/56</td>\n",
       "      <td>28 - Pharmacien</td>\n",
       "      <td>2</td>\n",
       "      <td>61</td>\n",
       "      <td>VAINQUEUR-CHRISTOPHE</td>\n",
       "      <td>HELENE</td>\n",
       "      <td>F</td>\n",
       "    </tr>\n",
       "    <tr>\n",
       "      <th>4</th>\n",
       "      <td>ZB</td>\n",
       "      <td>1ère circonscription</td>\n",
       "      <td>Mme MANIN Josette</td>\n",
       "      <td>DVG</td>\n",
       "      <td>54,89 %</td>\n",
       "      <td>NaN</td>\n",
       "      <td>NaN</td>\n",
       "      <td>3/16/50</td>\n",
       "      <td>61 - Retraité salarié privé</td>\n",
       "      <td>2</td>\n",
       "      <td>67</td>\n",
       "      <td>MANIN</td>\n",
       "      <td>JOSETTE</td>\n",
       "      <td>F</td>\n",
       "    </tr>\n",
       "  </tbody>\n",
       "</table>\n",
       "</div>"
      ],
      "text/plain": [
       "  Dpt Nom_de_la_Circonscription                      Désignation Nuance  \\\n",
       "0  ZA      1ère circonscription                 M. SERVA Olivier    REM   \n",
       "1  ZA      2ème circonscription                Mme BENIN Justine    DVG   \n",
       "2  ZA      3ème circonscription                 M. MATHIASIN Max    DVG   \n",
       "3  ZA      4ème circonscription  Mme VAINQUEUR-CHRISTOPHE Hélène    SOC   \n",
       "4  ZB      1ère circonscription                Mme MANIN Josette    DVG   \n",
       "\n",
       "     Score Sortant Perso.     date                               Profession  \\\n",
       "0  61,74 %     NaN    NaN  6/21/74                    34 - Expert comptable   \n",
       "1  64,26 %     NaN    NaN  3/12/75        48 - Fonctionnaire de catégorie B   \n",
       "2  65,15 %     NaN    NaN  2/24/56  52 - Employé (autres entrep. publiques)   \n",
       "3  61,61 %     NaN    NaN   5/6/56                          28 - Pharmacien   \n",
       "4  54,89 %     NaN    NaN  3/16/50              61 - Retraité salarié privé   \n",
       "\n",
       "   Tour  age                   nom   prenom sexe  \n",
       "0     2   43                 SERVA  OLIVIER    M  \n",
       "1     2   42                 BENIN  JUSTINE    F  \n",
       "2     2   61             MATHIASIN      MAX    M  \n",
       "3     2   61  VAINQUEUR-CHRISTOPHE   HELENE    F  \n",
       "4     2   67                 MANIN  JOSETTE    F  "
      ]
     },
     "execution_count": 11,
     "metadata": {},
     "output_type": "execute_result"
    }
   ],
   "source": [
    "res.head()"
   ]
  },
  {
   "cell_type": "markdown",
   "metadata": {},
   "source": [
    "## Préparation de la table de la haute autorité"
   ]
  },
  {
   "cell_type": "code",
   "execution_count": 12,
   "metadata": {
    "collapsed": false
   },
   "outputs": [],
   "source": [
    "htpr[\"nom\"] = htpr[\"nom\"].map(lambda x:unidecode.unidecode(x.strip()).upper())\n",
    "htpr[\"prenom\"] = htpr[\"prenom\"].map(lambda x:unidecode.unidecode(x.strip()).upper())"
   ]
  },
  {
   "cell_type": "code",
   "execution_count": 13,
   "metadata": {
    "collapsed": false
   },
   "outputs": [
    {
     "data": {
      "text/html": [
       "<div>\n",
       "<table border=\"1\" class=\"dataframe\">\n",
       "  <thead>\n",
       "    <tr style=\"text-align: right;\">\n",
       "      <th></th>\n",
       "      <th>civilite</th>\n",
       "      <th>prenom</th>\n",
       "      <th>nom</th>\n",
       "      <th>classement</th>\n",
       "      <th>type_mandat</th>\n",
       "      <th>qualite</th>\n",
       "      <th>type_document</th>\n",
       "      <th>departement</th>\n",
       "      <th>date_publication</th>\n",
       "      <th>nom_fichier</th>\n",
       "      <th>url_dossier</th>\n",
       "      <th>id_origine</th>\n",
       "      <th>url_photo</th>\n",
       "    </tr>\n",
       "  </thead>\n",
       "  <tbody>\n",
       "    <tr>\n",
       "      <th>0</th>\n",
       "      <td>Mme</td>\n",
       "      <td>ABBASSIA</td>\n",
       "      <td>HAKEM</td>\n",
       "      <td>hakemaaaabbassia4615</td>\n",
       "      <td>commune</td>\n",
       "      <td>Adjointe au maire de Nantes</td>\n",
       "      <td>di</td>\n",
       "      <td>44</td>\n",
       "      <td>2016-07-07</td>\n",
       "      <td>hakem-abbassia-di-commune-nantes.pdf</td>\n",
       "      <td>/pages_nominatives/hakem-abbassia</td>\n",
       "      <td>NaN</td>\n",
       "      <td>NaN</td>\n",
       "    </tr>\n",
       "    <tr>\n",
       "      <th>1</th>\n",
       "      <td>M.</td>\n",
       "      <td>ABDEL</td>\n",
       "      <td>GHEZALI</td>\n",
       "      <td>ghezaliaaaabdel3656</td>\n",
       "      <td>commune</td>\n",
       "      <td>Adjoint au maire de Besançon</td>\n",
       "      <td>di</td>\n",
       "      <td>25</td>\n",
       "      <td>2016-07-07</td>\n",
       "      <td>ghezali-abdel-di-commune-besancon.pdf</td>\n",
       "      <td>/pages_nominatives/ghezali-abdel</td>\n",
       "      <td>NaN</td>\n",
       "      <td>NaN</td>\n",
       "    </tr>\n",
       "    <tr>\n",
       "      <th>2</th>\n",
       "      <td>M.</td>\n",
       "      <td>ABDEL-MADJID</td>\n",
       "      <td>SADI</td>\n",
       "      <td>sadiaaaabdelmadjid8238</td>\n",
       "      <td>departement</td>\n",
       "      <td>Vice-Président du conseil départemental de la ...</td>\n",
       "      <td>di</td>\n",
       "      <td>93</td>\n",
       "      <td>2016-10-28</td>\n",
       "      <td>sadi-abdel-madjid-di-departement-93.pdf</td>\n",
       "      <td>/pages_nominatives/sadi-abdel-madjid-8238</td>\n",
       "      <td>NaN</td>\n",
       "      <td>NaN</td>\n",
       "    </tr>\n",
       "    <tr>\n",
       "      <th>3</th>\n",
       "      <td>M.</td>\n",
       "      <td>ABDOURAHAMANE</td>\n",
       "      <td>SOILIHI</td>\n",
       "      <td>soilihiaaaabdourahamane8213</td>\n",
       "      <td>senateur</td>\n",
       "      <td>Sénateur de Mayotte</td>\n",
       "      <td>dia</td>\n",
       "      <td>976</td>\n",
       "      <td>2014-07-23</td>\n",
       "      <td>soilihi-abdourahamane-dia-senateur-976.pdf</td>\n",
       "      <td>/pages_nominatives/soilihi-abdourahamane</td>\n",
       "      <td>11071M</td>\n",
       "      <td>http://www.senat.fr/senimg/soilihi_abdourahama...</td>\n",
       "    </tr>\n",
       "    <tr>\n",
       "      <th>4</th>\n",
       "      <td>M.</td>\n",
       "      <td>ABDOURAHAMANE</td>\n",
       "      <td>SOILIHI</td>\n",
       "      <td>soilihiaaaabdourahamane8213</td>\n",
       "      <td>senateur</td>\n",
       "      <td>Sénateur de Mayotte</td>\n",
       "      <td>dsp</td>\n",
       "      <td>976</td>\n",
       "      <td>2015-07-10</td>\n",
       "      <td>soilihi-abdourahamane-dsp-senateur-976.pdf</td>\n",
       "      <td>/pages_nominatives/soilihi-abdourahamane</td>\n",
       "      <td>11071M</td>\n",
       "      <td>http://www.senat.fr/senimg/soilihi_abdourahama...</td>\n",
       "    </tr>\n",
       "  </tbody>\n",
       "</table>\n",
       "</div>"
      ],
      "text/plain": [
       "  civilite         prenom      nom                   classement  type_mandat  \\\n",
       "0      Mme       ABBASSIA    HAKEM         hakemaaaabbassia4615      commune   \n",
       "1       M.          ABDEL  GHEZALI          ghezaliaaaabdel3656      commune   \n",
       "2       M.   ABDEL-MADJID     SADI       sadiaaaabdelmadjid8238  departement   \n",
       "3       M.  ABDOURAHAMANE  SOILIHI  soilihiaaaabdourahamane8213     senateur   \n",
       "4       M.  ABDOURAHAMANE  SOILIHI  soilihiaaaabdourahamane8213     senateur   \n",
       "\n",
       "                                             qualite type_document  \\\n",
       "0                        Adjointe au maire de Nantes            di   \n",
       "1                       Adjoint au maire de Besançon            di   \n",
       "2  Vice-Président du conseil départemental de la ...            di   \n",
       "3                                Sénateur de Mayotte           dia   \n",
       "4                                Sénateur de Mayotte           dsp   \n",
       "\n",
       "  departement date_publication                                 nom_fichier  \\\n",
       "0          44       2016-07-07        hakem-abbassia-di-commune-nantes.pdf   \n",
       "1          25       2016-07-07       ghezali-abdel-di-commune-besancon.pdf   \n",
       "2          93       2016-10-28     sadi-abdel-madjid-di-departement-93.pdf   \n",
       "3         976       2014-07-23  soilihi-abdourahamane-dia-senateur-976.pdf   \n",
       "4         976       2015-07-10  soilihi-abdourahamane-dsp-senateur-976.pdf   \n",
       "\n",
       "                                 url_dossier id_origine  \\\n",
       "0          /pages_nominatives/hakem-abbassia        NaN   \n",
       "1           /pages_nominatives/ghezali-abdel        NaN   \n",
       "2  /pages_nominatives/sadi-abdel-madjid-8238        NaN   \n",
       "3   /pages_nominatives/soilihi-abdourahamane     11071M   \n",
       "4   /pages_nominatives/soilihi-abdourahamane     11071M   \n",
       "\n",
       "                                           url_photo  \n",
       "0                                                NaN  \n",
       "1                                                NaN  \n",
       "2                                                NaN  \n",
       "3  http://www.senat.fr/senimg/soilihi_abdourahama...  \n",
       "4  http://www.senat.fr/senimg/soilihi_abdourahama...  "
      ]
     },
     "execution_count": 13,
     "metadata": {},
     "output_type": "execute_result"
    }
   ],
   "source": [
    "htpr.head()"
   ]
  },
  {
   "cell_type": "code",
   "execution_count": 14,
   "metadata": {
    "collapsed": false
   },
   "outputs": [
    {
     "data": {
      "text/html": [
       "<div>\n",
       "<table border=\"1\" class=\"dataframe\">\n",
       "  <thead>\n",
       "    <tr style=\"text-align: right;\">\n",
       "      <th></th>\n",
       "      <th>civilite</th>\n",
       "      <th>prenom</th>\n",
       "      <th>nom</th>\n",
       "      <th>classement</th>\n",
       "      <th>type_mandat</th>\n",
       "      <th>qualite</th>\n",
       "      <th>type_document</th>\n",
       "      <th>departement</th>\n",
       "      <th>date_publication</th>\n",
       "      <th>nom_fichier</th>\n",
       "      <th>url_dossier</th>\n",
       "      <th>id_origine</th>\n",
       "      <th>url_photo</th>\n",
       "    </tr>\n",
       "  </thead>\n",
       "  <tbody>\n",
       "    <tr>\n",
       "      <th>1770</th>\n",
       "      <td>M.</td>\n",
       "      <td>FRANCOIS</td>\n",
       "      <td>BAYROU</td>\n",
       "      <td>bayrouaaafrancois58</td>\n",
       "      <td>commune</td>\n",
       "      <td>Maire de Pau</td>\n",
       "      <td>di</td>\n",
       "      <td>64</td>\n",
       "      <td>2015-12-17</td>\n",
       "      <td>bayrou-francois-di-commune-pau.pdf</td>\n",
       "      <td>/pages_nominatives/bayrou-francois</td>\n",
       "      <td>NaN</td>\n",
       "      <td>NaN</td>\n",
       "    </tr>\n",
       "  </tbody>\n",
       "</table>\n",
       "</div>"
      ],
      "text/plain": [
       "     civilite    prenom     nom           classement type_mandat  \\\n",
       "1770       M.  FRANCOIS  BAYROU  bayrouaaafrancois58     commune   \n",
       "\n",
       "           qualite type_document departement date_publication  \\\n",
       "1770  Maire de Pau            di          64       2015-12-17   \n",
       "\n",
       "                             nom_fichier                         url_dossier  \\\n",
       "1770  bayrou-francois-di-commune-pau.pdf  /pages_nominatives/bayrou-francois   \n",
       "\n",
       "     id_origine url_photo  \n",
       "1770        NaN       NaN  "
      ]
     },
     "execution_count": 14,
     "metadata": {},
     "output_type": "execute_result"
    }
   ],
   "source": [
    "htpr[htpr[\"nom\"]==\"BAYROU\"]"
   ]
  },
  {
   "cell_type": "code",
   "execution_count": 15,
   "metadata": {
    "collapsed": false
   },
   "outputs": [],
   "source": [
    "# Garde que les personnes qui ont un dossier renseignée \n",
    "htpr = htpr[~htpr[\"url_dossier\"].isnull()]\n",
    "htpr[\"link\"] = htpr[\"nom_fichier\"].map(lambda x : \"http://www.hatvp.fr/livraison/dossiers/\"+str(x))"
   ]
  },
  {
   "cell_type": "code",
   "execution_count": 16,
   "metadata": {
    "collapsed": false
   },
   "outputs": [
    {
     "name": "stdout",
     "output_type": "stream",
     "text": [
      "(5563, 14)\n"
     ]
    }
   ],
   "source": [
    "print(htpr.shape)"
   ]
  },
  {
   "cell_type": "code",
   "execution_count": 17,
   "metadata": {
    "collapsed": false
   },
   "outputs": [],
   "source": [
    "# Prendre la photo la plus récente \n",
    "sub_htrp = htpr.dropna()\n",
    "sub_htrp = sub_htrp.sort_values([\"nom\",\"prenom\",\"date_publication\"], ascending=False)\n",
    "sub_htrp = sub_htrp.drop_duplicates([\"nom\",\"prenom\"])\n",
    "sub_htrp = sub_htrp.rename(columns={\"url_photo\": \"link_pict\"})"
   ]
  },
  {
   "cell_type": "code",
   "execution_count": 18,
   "metadata": {
    "collapsed": false
   },
   "outputs": [],
   "source": [
    "htpr = pd.merge(htpr, sub_htrp[[\"nom\",\"prenom\",\"link_pict\"]],how=\"left\", on=[\"nom\",\"prenom\"])"
   ]
  },
  {
   "cell_type": "code",
   "execution_count": 19,
   "metadata": {
    "collapsed": false
   },
   "outputs": [
    {
     "data": {
      "text/html": [
       "<div>\n",
       "<table border=\"1\" class=\"dataframe\">\n",
       "  <thead>\n",
       "    <tr style=\"text-align: right;\">\n",
       "      <th></th>\n",
       "      <th>civilite</th>\n",
       "      <th>prenom</th>\n",
       "      <th>nom</th>\n",
       "      <th>classement</th>\n",
       "      <th>type_mandat</th>\n",
       "      <th>qualite</th>\n",
       "      <th>type_document</th>\n",
       "      <th>departement</th>\n",
       "      <th>date_publication</th>\n",
       "      <th>nom_fichier</th>\n",
       "      <th>url_dossier</th>\n",
       "      <th>id_origine</th>\n",
       "      <th>url_photo</th>\n",
       "      <th>link</th>\n",
       "      <th>link_pict</th>\n",
       "    </tr>\n",
       "  </thead>\n",
       "  <tbody>\n",
       "    <tr>\n",
       "      <th>0</th>\n",
       "      <td>Mme</td>\n",
       "      <td>ABBASSIA</td>\n",
       "      <td>HAKEM</td>\n",
       "      <td>hakemaaaabbassia4615</td>\n",
       "      <td>commune</td>\n",
       "      <td>Adjointe au maire de Nantes</td>\n",
       "      <td>di</td>\n",
       "      <td>44</td>\n",
       "      <td>2016-07-07</td>\n",
       "      <td>hakem-abbassia-di-commune-nantes.pdf</td>\n",
       "      <td>/pages_nominatives/hakem-abbassia</td>\n",
       "      <td>NaN</td>\n",
       "      <td>NaN</td>\n",
       "      <td>http://www.hatvp.fr/livraison/dossiers/hakem-a...</td>\n",
       "      <td>NaN</td>\n",
       "    </tr>\n",
       "    <tr>\n",
       "      <th>1</th>\n",
       "      <td>M.</td>\n",
       "      <td>ABDEL</td>\n",
       "      <td>GHEZALI</td>\n",
       "      <td>ghezaliaaaabdel3656</td>\n",
       "      <td>commune</td>\n",
       "      <td>Adjoint au maire de Besançon</td>\n",
       "      <td>di</td>\n",
       "      <td>25</td>\n",
       "      <td>2016-07-07</td>\n",
       "      <td>ghezali-abdel-di-commune-besancon.pdf</td>\n",
       "      <td>/pages_nominatives/ghezali-abdel</td>\n",
       "      <td>NaN</td>\n",
       "      <td>NaN</td>\n",
       "      <td>http://www.hatvp.fr/livraison/dossiers/ghezali...</td>\n",
       "      <td>NaN</td>\n",
       "    </tr>\n",
       "    <tr>\n",
       "      <th>2</th>\n",
       "      <td>M.</td>\n",
       "      <td>ABDEL-MADJID</td>\n",
       "      <td>SADI</td>\n",
       "      <td>sadiaaaabdelmadjid8238</td>\n",
       "      <td>departement</td>\n",
       "      <td>Vice-Président du conseil départemental de la ...</td>\n",
       "      <td>di</td>\n",
       "      <td>93</td>\n",
       "      <td>2016-10-28</td>\n",
       "      <td>sadi-abdel-madjid-di-departement-93.pdf</td>\n",
       "      <td>/pages_nominatives/sadi-abdel-madjid-8238</td>\n",
       "      <td>NaN</td>\n",
       "      <td>NaN</td>\n",
       "      <td>http://www.hatvp.fr/livraison/dossiers/sadi-ab...</td>\n",
       "      <td>NaN</td>\n",
       "    </tr>\n",
       "    <tr>\n",
       "      <th>3</th>\n",
       "      <td>M.</td>\n",
       "      <td>ABDOURAHAMANE</td>\n",
       "      <td>SOILIHI</td>\n",
       "      <td>soilihiaaaabdourahamane8213</td>\n",
       "      <td>senateur</td>\n",
       "      <td>Sénateur de Mayotte</td>\n",
       "      <td>dia</td>\n",
       "      <td>976</td>\n",
       "      <td>2014-07-23</td>\n",
       "      <td>soilihi-abdourahamane-dia-senateur-976.pdf</td>\n",
       "      <td>/pages_nominatives/soilihi-abdourahamane</td>\n",
       "      <td>11071M</td>\n",
       "      <td>http://www.senat.fr/senimg/soilihi_abdourahama...</td>\n",
       "      <td>http://www.hatvp.fr/livraison/dossiers/soilihi...</td>\n",
       "      <td>http://www.senat.fr/senimg/soilihi_abdourahama...</td>\n",
       "    </tr>\n",
       "    <tr>\n",
       "      <th>4</th>\n",
       "      <td>M.</td>\n",
       "      <td>ABDOURAHAMANE</td>\n",
       "      <td>SOILIHI</td>\n",
       "      <td>soilihiaaaabdourahamane8213</td>\n",
       "      <td>senateur</td>\n",
       "      <td>Sénateur de Mayotte</td>\n",
       "      <td>dsp</td>\n",
       "      <td>976</td>\n",
       "      <td>2015-07-10</td>\n",
       "      <td>soilihi-abdourahamane-dsp-senateur-976.pdf</td>\n",
       "      <td>/pages_nominatives/soilihi-abdourahamane</td>\n",
       "      <td>11071M</td>\n",
       "      <td>http://www.senat.fr/senimg/soilihi_abdourahama...</td>\n",
       "      <td>http://www.hatvp.fr/livraison/dossiers/soilihi...</td>\n",
       "      <td>http://www.senat.fr/senimg/soilihi_abdourahama...</td>\n",
       "    </tr>\n",
       "  </tbody>\n",
       "</table>\n",
       "</div>"
      ],
      "text/plain": [
       "  civilite         prenom      nom                   classement  type_mandat  \\\n",
       "0      Mme       ABBASSIA    HAKEM         hakemaaaabbassia4615      commune   \n",
       "1       M.          ABDEL  GHEZALI          ghezaliaaaabdel3656      commune   \n",
       "2       M.   ABDEL-MADJID     SADI       sadiaaaabdelmadjid8238  departement   \n",
       "3       M.  ABDOURAHAMANE  SOILIHI  soilihiaaaabdourahamane8213     senateur   \n",
       "4       M.  ABDOURAHAMANE  SOILIHI  soilihiaaaabdourahamane8213     senateur   \n",
       "\n",
       "                                             qualite type_document  \\\n",
       "0                        Adjointe au maire de Nantes            di   \n",
       "1                       Adjoint au maire de Besançon            di   \n",
       "2  Vice-Président du conseil départemental de la ...            di   \n",
       "3                                Sénateur de Mayotte           dia   \n",
       "4                                Sénateur de Mayotte           dsp   \n",
       "\n",
       "  departement date_publication                                 nom_fichier  \\\n",
       "0          44       2016-07-07        hakem-abbassia-di-commune-nantes.pdf   \n",
       "1          25       2016-07-07       ghezali-abdel-di-commune-besancon.pdf   \n",
       "2          93       2016-10-28     sadi-abdel-madjid-di-departement-93.pdf   \n",
       "3         976       2014-07-23  soilihi-abdourahamane-dia-senateur-976.pdf   \n",
       "4         976       2015-07-10  soilihi-abdourahamane-dsp-senateur-976.pdf   \n",
       "\n",
       "                                 url_dossier id_origine  \\\n",
       "0          /pages_nominatives/hakem-abbassia        NaN   \n",
       "1           /pages_nominatives/ghezali-abdel        NaN   \n",
       "2  /pages_nominatives/sadi-abdel-madjid-8238        NaN   \n",
       "3   /pages_nominatives/soilihi-abdourahamane     11071M   \n",
       "4   /pages_nominatives/soilihi-abdourahamane     11071M   \n",
       "\n",
       "                                           url_photo  \\\n",
       "0                                                NaN   \n",
       "1                                                NaN   \n",
       "2                                                NaN   \n",
       "3  http://www.senat.fr/senimg/soilihi_abdourahama...   \n",
       "4  http://www.senat.fr/senimg/soilihi_abdourahama...   \n",
       "\n",
       "                                                link  \\\n",
       "0  http://www.hatvp.fr/livraison/dossiers/hakem-a...   \n",
       "1  http://www.hatvp.fr/livraison/dossiers/ghezali...   \n",
       "2  http://www.hatvp.fr/livraison/dossiers/sadi-ab...   \n",
       "3  http://www.hatvp.fr/livraison/dossiers/soilihi...   \n",
       "4  http://www.hatvp.fr/livraison/dossiers/soilihi...   \n",
       "\n",
       "                                           link_pict  \n",
       "0                                                NaN  \n",
       "1                                                NaN  \n",
       "2                                                NaN  \n",
       "3  http://www.senat.fr/senimg/soilihi_abdourahama...  \n",
       "4  http://www.senat.fr/senimg/soilihi_abdourahama...  "
      ]
     },
     "execution_count": 19,
     "metadata": {},
     "output_type": "execute_result"
    }
   ],
   "source": [
    "htpr.head()"
   ]
  },
  {
   "cell_type": "code",
   "execution_count": 20,
   "metadata": {
    "collapsed": false
   },
   "outputs": [
    {
     "name": "stdout",
     "output_type": "stream",
     "text": [
      "(5563, 15)\n"
     ]
    }
   ],
   "source": [
    "print(htpr.shape)"
   ]
  },
  {
   "cell_type": "code",
   "execution_count": 21,
   "metadata": {
    "collapsed": true
   },
   "outputs": [],
   "source": [
    "# garder la déclaration la plus récente \n",
    "htpr = htpr.sort_values([\"nom\",\"prenom\",\"date_publication\"], ascending=False)"
   ]
  },
  {
   "cell_type": "code",
   "execution_count": 22,
   "metadata": {
    "collapsed": false
   },
   "outputs": [
    {
     "data": {
      "text/html": [
       "<div>\n",
       "<table border=\"1\" class=\"dataframe\">\n",
       "  <thead>\n",
       "    <tr style=\"text-align: right;\">\n",
       "      <th></th>\n",
       "      <th>civilite</th>\n",
       "      <th>prenom</th>\n",
       "      <th>nom</th>\n",
       "      <th>classement</th>\n",
       "      <th>type_mandat</th>\n",
       "      <th>qualite</th>\n",
       "      <th>type_document</th>\n",
       "      <th>departement</th>\n",
       "      <th>date_publication</th>\n",
       "      <th>nom_fichier</th>\n",
       "      <th>url_dossier</th>\n",
       "      <th>id_origine</th>\n",
       "      <th>url_photo</th>\n",
       "      <th>link</th>\n",
       "      <th>link_pict</th>\n",
       "    </tr>\n",
       "  </thead>\n",
       "  <tbody>\n",
       "    <tr>\n",
       "      <th>589</th>\n",
       "      <td>M.</td>\n",
       "      <td>BERNARD</td>\n",
       "      <td>ZUNINO</td>\n",
       "      <td>zuninoaaabernard9220</td>\n",
       "      <td>commune</td>\n",
       "      <td>Maire de Saint-Michel-sur-Orge</td>\n",
       "      <td>di</td>\n",
       "      <td>91</td>\n",
       "      <td>2015-12-17</td>\n",
       "      <td>zunino-bernard-di-commune-saint-michel-sur-org...</td>\n",
       "      <td>/pages_nominatives/zunino-bernard</td>\n",
       "      <td>NaN</td>\n",
       "      <td>NaN</td>\n",
       "      <td>http://www.hatvp.fr/livraison/dossiers/zunino-...</td>\n",
       "      <td>NaN</td>\n",
       "    </tr>\n",
       "    <tr>\n",
       "      <th>4090</th>\n",
       "      <td>M.</td>\n",
       "      <td>MICHEL</td>\n",
       "      <td>ZUMKELLER</td>\n",
       "      <td>zumkelleraaamichel9238</td>\n",
       "      <td>depute</td>\n",
       "      <td>Député du Territoire de Belfort</td>\n",
       "      <td>dsp</td>\n",
       "      <td>90</td>\n",
       "      <td>2015-07-10</td>\n",
       "      <td>zumkeller-michel-dsp-depute-90.pdf</td>\n",
       "      <td>/pages_nominatives/zumkeller-michel</td>\n",
       "      <td>267330</td>\n",
       "      <td>http://www2.assemblee-nationale.fr/static/trib...</td>\n",
       "      <td>http://www.hatvp.fr/livraison/dossiers/zumkell...</td>\n",
       "      <td>http://www2.assemblee-nationale.fr/static/trib...</td>\n",
       "    </tr>\n",
       "    <tr>\n",
       "      <th>4089</th>\n",
       "      <td>M.</td>\n",
       "      <td>MICHEL</td>\n",
       "      <td>ZUMKELLER</td>\n",
       "      <td>zumkelleraaamichel9238</td>\n",
       "      <td>depute</td>\n",
       "      <td>Député du Territoire de Belfort</td>\n",
       "      <td>dia</td>\n",
       "      <td>90</td>\n",
       "      <td>2014-07-23</td>\n",
       "      <td>zumkeller-michel-dia-depute-90.pdf</td>\n",
       "      <td>/pages_nominatives/zumkeller-michel</td>\n",
       "      <td>267330</td>\n",
       "      <td>http://www2.assemblee-nationale.fr/static/trib...</td>\n",
       "      <td>http://www.hatvp.fr/livraison/dossiers/zumkell...</td>\n",
       "      <td>http://www2.assemblee-nationale.fr/static/trib...</td>\n",
       "    </tr>\n",
       "    <tr>\n",
       "      <th>3764</th>\n",
       "      <td>Mme</td>\n",
       "      <td>MARIE</td>\n",
       "      <td>ZUCCARELLI</td>\n",
       "      <td>ZUCCARELLI Marie10371</td>\n",
       "      <td>departement</td>\n",
       "      <td>Conseillère départementale de la Corse-du-Sud</td>\n",
       "      <td>di</td>\n",
       "      <td>2A</td>\n",
       "      <td>NaN</td>\n",
       "      <td>NaN</td>\n",
       "      <td>/pages_nominatives/zuccarelli-marie</td>\n",
       "      <td>NaN</td>\n",
       "      <td>NaN</td>\n",
       "      <td>http://www.hatvp.fr/livraison/dossiers/nan</td>\n",
       "      <td>NaN</td>\n",
       "    </tr>\n",
       "    <tr>\n",
       "      <th>2933</th>\n",
       "      <td>M.</td>\n",
       "      <td>JEAN-MARIE</td>\n",
       "      <td>ZOELLE</td>\n",
       "      <td>zoelleaaajeanmarie9213</td>\n",
       "      <td>commune</td>\n",
       "      <td>Maire de Saint-Louis</td>\n",
       "      <td>di</td>\n",
       "      <td>57</td>\n",
       "      <td>2015-12-17</td>\n",
       "      <td>zoelle-jean-marie-di-commune-saint-louis.pdf</td>\n",
       "      <td>/pages_nominatives/zoelle-jean-marie</td>\n",
       "      <td>NaN</td>\n",
       "      <td>NaN</td>\n",
       "      <td>http://www.hatvp.fr/livraison/dossiers/zoelle-...</td>\n",
       "      <td>NaN</td>\n",
       "    </tr>\n",
       "  </tbody>\n",
       "</table>\n",
       "</div>"
      ],
      "text/plain": [
       "     civilite      prenom         nom              classement  type_mandat  \\\n",
       "589        M.     BERNARD      ZUNINO    zuninoaaabernard9220      commune   \n",
       "4090       M.      MICHEL   ZUMKELLER  zumkelleraaamichel9238       depute   \n",
       "4089       M.      MICHEL   ZUMKELLER  zumkelleraaamichel9238       depute   \n",
       "3764      Mme       MARIE  ZUCCARELLI   ZUCCARELLI Marie10371  departement   \n",
       "2933       M.  JEAN-MARIE      ZOELLE  zoelleaaajeanmarie9213      commune   \n",
       "\n",
       "                                            qualite type_document departement  \\\n",
       "589                  Maire de Saint-Michel-sur-Orge            di          91   \n",
       "4090                Député du Territoire de Belfort           dsp          90   \n",
       "4089                Député du Territoire de Belfort           dia          90   \n",
       "3764  Conseillère départementale de la Corse-du-Sud            di          2A   \n",
       "2933                           Maire de Saint-Louis            di          57   \n",
       "\n",
       "     date_publication                                        nom_fichier  \\\n",
       "589        2015-12-17  zunino-bernard-di-commune-saint-michel-sur-org...   \n",
       "4090       2015-07-10                 zumkeller-michel-dsp-depute-90.pdf   \n",
       "4089       2014-07-23                 zumkeller-michel-dia-depute-90.pdf   \n",
       "3764              NaN                                                NaN   \n",
       "2933       2015-12-17       zoelle-jean-marie-di-commune-saint-louis.pdf   \n",
       "\n",
       "                               url_dossier id_origine  \\\n",
       "589      /pages_nominatives/zunino-bernard        NaN   \n",
       "4090   /pages_nominatives/zumkeller-michel     267330   \n",
       "4089   /pages_nominatives/zumkeller-michel     267330   \n",
       "3764   /pages_nominatives/zuccarelli-marie        NaN   \n",
       "2933  /pages_nominatives/zoelle-jean-marie        NaN   \n",
       "\n",
       "                                              url_photo  \\\n",
       "589                                                 NaN   \n",
       "4090  http://www2.assemblee-nationale.fr/static/trib...   \n",
       "4089  http://www2.assemblee-nationale.fr/static/trib...   \n",
       "3764                                                NaN   \n",
       "2933                                                NaN   \n",
       "\n",
       "                                                   link  \\\n",
       "589   http://www.hatvp.fr/livraison/dossiers/zunino-...   \n",
       "4090  http://www.hatvp.fr/livraison/dossiers/zumkell...   \n",
       "4089  http://www.hatvp.fr/livraison/dossiers/zumkell...   \n",
       "3764         http://www.hatvp.fr/livraison/dossiers/nan   \n",
       "2933  http://www.hatvp.fr/livraison/dossiers/zoelle-...   \n",
       "\n",
       "                                              link_pict  \n",
       "589                                                 NaN  \n",
       "4090  http://www2.assemblee-nationale.fr/static/trib...  \n",
       "4089  http://www2.assemblee-nationale.fr/static/trib...  \n",
       "3764                                                NaN  \n",
       "2933                                                NaN  "
      ]
     },
     "execution_count": 22,
     "metadata": {},
     "output_type": "execute_result"
    }
   ],
   "source": [
    "htpr.head()"
   ]
  },
  {
   "cell_type": "code",
   "execution_count": 23,
   "metadata": {
    "collapsed": true
   },
   "outputs": [],
   "source": [
    "htpr = htpr.drop_duplicates([\"nom\",\"prenom\"], keep='first')"
   ]
  },
  {
   "cell_type": "code",
   "execution_count": 24,
   "metadata": {
    "collapsed": false
   },
   "outputs": [
    {
     "data": {
      "text/plain": [
       "(3417, 15)"
      ]
     },
     "execution_count": 24,
     "metadata": {},
     "output_type": "execute_result"
    }
   ],
   "source": [
    "htpr.shape"
   ]
  },
  {
   "cell_type": "markdown",
   "metadata": {},
   "source": [
    "## Préparation table résultat premier tour "
   ]
  },
  {
   "cell_type": "code",
   "execution_count": 25,
   "metadata": {
    "collapsed": true
   },
   "outputs": [],
   "source": [
    "vrai_res = pd.read_excel(\"Leg_2017_Resultats_T1_c.xlsx\", sheetname=\"Circo. leg. T1\", skiprows=2)"
   ]
  },
  {
   "cell_type": "code",
   "execution_count": 26,
   "metadata": {
    "collapsed": true
   },
   "outputs": [],
   "source": [
    "vrai_res[\"code\"] = vrai_res.apply(lambda row : str(row[\"Code du département\"])+'|'\n",
    "                                  +str(row[\"Code de la circonscription\"]), axis=1)\n",
    "\n",
    "vrai_res = vrai_res.set_index(\"code\")\n",
    "\n",
    "one_df = vrai_res[[\"Nom\",\"Nom.1\",\"Nom.2\",\"Nom.3\",\"Nom.4\",\"Nom.5\",\"Nom.6\",\n",
    "         \"Nom.7\",\"Nom.8\",\"Nom.9\",\"Nom.10\",\"Nom.11\",\"Nom.12\",\"Nom.13\",\"Nom.14\",\"Nom.15\",\"Nom.16\",\"Nom.17\",\"Nom.18\",\n",
    "         \"Nom.19\",\"Nom.20\",\"Nom.21\",\"Nom.22\",\"Nom.23\",\"Nom.24\",\n",
    "         \"Nom.25\",\"Nom.26\"]].stack()\n",
    "one_df = one_df.rename(\"nom\")\n",
    "one_df = one_df.reset_index()\n",
    "del one_df[\"level_1\"]\n",
    "\n",
    "two_df = vrai_res[[\"Prénom\",\"Prénom.1\",\"Prénom.2\",\"Prénom.3\",\"Prénom.4\",\"Prénom.5\",\"Prénom.6\",\n",
    "         \"Prénom.7\",\"Prénom.8\",\"Prénom.9\",\"Prénom.10\",\"Prénom.11\",\"Prénom.12\",\"Prénom.13\",\"Prénom.14\",\n",
    "        \"Prénom.15\",\"Prénom.16\",\"Prénom.17\",\"Prénom.18\",\n",
    "         \"Prénom.19\",\"Prénom.20\",\"Prénom.21\",\"Prénom.22\",\"Prénom.23\",\"Prénom.24\",\n",
    "         \"Prénom.25\",\"Prénom.26\"]].stack()\n",
    "two_df = two_df.rename(\"prenom\")\n",
    "two_df = two_df.reset_index()\n",
    "del two_df[\"code\"]\n",
    "del two_df[\"level_1\"]\n",
    "\n",
    "tree_df = vrai_res[[\"% Voix/Exp\",\"% Voix/Exp.1\",\"% Voix/Exp.2\",\"% Voix/Exp.3\",\"% Voix/Exp.4\",\"% Voix/Exp.5\",\n",
    "                    \"% Voix/Exp.6\",\n",
    "         \"% Voix/Exp.7\",\"% Voix/Exp.8\",\"% Voix/Exp.9\",\"% Voix/Exp.10\",\"% Voix/Exp.11\",\"% Voix/Exp.12\",\n",
    "                    \"% Voix/Exp.13\",\"% Voix/Exp.14\",\n",
    "        \"% Voix/Exp.15\",\"% Voix/Exp.16\",\"% Voix/Exp.17\",\"% Voix/Exp.18\",\n",
    "         \"% Voix/Exp.19\",\"% Voix/Exp.20\",\"% Voix/Exp.21\",\"% Voix/Exp.22\",\"% Voix/Exp.23\",\"% Voix/Exp.24\",\n",
    "         \"% Voix/Exp.25\",\"% Voix/Exp.26\"]].stack()\n",
    "tree_df = tree_df.rename(\"score_exp\")\n",
    "tree_df = tree_df.reset_index()\n",
    "del tree_df[\"code\"]\n",
    "del tree_df[\"level_1\"]\n",
    "\n",
    "\n",
    "quar_df = vrai_res[[\"% Voix/Ins\",\"% Voix/Ins.1\",\"% Voix/Ins.2\",\"% Voix/Ins.3\",\"% Voix/Ins.4\",\"% Voix/Ins.5\",\n",
    "                    \"% Voix/Ins.6\",\n",
    "         \"% Voix/Ins.7\",\"% Voix/Ins.8\",\"% Voix/Ins.9\",\"% Voix/Ins.10\",\"% Voix/Ins.11\",\"% Voix/Ins.12\",\n",
    "                    \"% Voix/Ins.13\",\"% Voix/Ins.14\",\n",
    "        \"% Voix/Ins.15\",\"% Voix/Ins.16\",\"% Voix/Ins.17\",\"% Voix/Ins.18\",\n",
    "         \"% Voix/Ins.19\",\"% Voix/Ins.20\",\"% Voix/Ins.21\",\"% Voix/Ins.22\",\"% Voix/Ins.23\",\"% Voix/Ins.24\",\n",
    "         \"% Voix/Ins.25\",\"% Voix/Ins.26\"]].stack()\n",
    "quar_df = quar_df.rename(\"score_ins\")\n",
    "quar_df = quar_df.reset_index()\n",
    "del quar_df[\"code\"]\n",
    "del quar_df[\"level_1\"]\n",
    "\n",
    "df_resultat = pd.concat([one_df, two_df, tree_df, quar_df], axis=1)"
   ]
  },
  {
   "cell_type": "code",
   "execution_count": 27,
   "metadata": {
    "collapsed": true
   },
   "outputs": [],
   "source": [
    "df_resultat[\"nom\"] = df_resultat[\"nom\"].map(lambda x: unidecode.unidecode(x.strip()).upper())\n",
    "df_resultat[\"prenom\"] = df_resultat[\"prenom\"].map(lambda x: unidecode.unidecode(x.strip()).upper())"
   ]
  },
  {
   "cell_type": "code",
   "execution_count": 28,
   "metadata": {
    "collapsed": false
   },
   "outputs": [
    {
     "data": {
      "text/html": [
       "<div>\n",
       "<table border=\"1\" class=\"dataframe\">\n",
       "  <thead>\n",
       "    <tr style=\"text-align: right;\">\n",
       "      <th></th>\n",
       "      <th>code</th>\n",
       "      <th>nom</th>\n",
       "      <th>prenom</th>\n",
       "      <th>score_exp</th>\n",
       "      <th>score_ins</th>\n",
       "    </tr>\n",
       "  </thead>\n",
       "  <tbody>\n",
       "    <tr>\n",
       "      <th>0</th>\n",
       "      <td>1|1</td>\n",
       "      <td>LEPAGNOT</td>\n",
       "      <td>MAUDE</td>\n",
       "      <td>0.73</td>\n",
       "      <td>0.35</td>\n",
       "    </tr>\n",
       "    <tr>\n",
       "      <th>1</th>\n",
       "      <td>1|1</td>\n",
       "      <td>FONTAINE</td>\n",
       "      <td>JACQUES</td>\n",
       "      <td>1.64</td>\n",
       "      <td>0.79</td>\n",
       "    </tr>\n",
       "    <tr>\n",
       "      <th>2</th>\n",
       "      <td>1|1</td>\n",
       "      <td>MARTIN ZEMLIK</td>\n",
       "      <td>FABRINE</td>\n",
       "      <td>9.70</td>\n",
       "      <td>4.68</td>\n",
       "    </tr>\n",
       "    <tr>\n",
       "      <th>3</th>\n",
       "      <td>1|1</td>\n",
       "      <td>BLATRIX-CONTAT</td>\n",
       "      <td>FLORENCE</td>\n",
       "      <td>9.23</td>\n",
       "      <td>4.46</td>\n",
       "    </tr>\n",
       "    <tr>\n",
       "      <th>4</th>\n",
       "      <td>1|1</td>\n",
       "      <td>RAIMONDO</td>\n",
       "      <td>LAURANE</td>\n",
       "      <td>1.41</td>\n",
       "      <td>0.68</td>\n",
       "    </tr>\n",
       "  </tbody>\n",
       "</table>\n",
       "</div>"
      ],
      "text/plain": [
       "  code             nom    prenom  score_exp  score_ins\n",
       "0  1|1        LEPAGNOT     MAUDE       0.73       0.35\n",
       "1  1|1        FONTAINE   JACQUES       1.64       0.79\n",
       "2  1|1   MARTIN ZEMLIK   FABRINE       9.70       4.68\n",
       "3  1|1  BLATRIX-CONTAT  FLORENCE       9.23       4.46\n",
       "4  1|1        RAIMONDO   LAURANE       1.41       0.68"
      ]
     },
     "execution_count": 28,
     "metadata": {},
     "output_type": "execute_result"
    }
   ],
   "source": [
    "df_resultat.head()"
   ]
  },
  {
   "cell_type": "markdown",
   "metadata": {},
   "source": [
    "## Merge table "
   ]
  },
  {
   "cell_type": "code",
   "execution_count": 29,
   "metadata": {
    "collapsed": false
   },
   "outputs": [
    {
     "name": "stdout",
     "output_type": "stream",
     "text": [
      "(577, 14)\n"
     ]
    }
   ],
   "source": [
    "print(res.shape)"
   ]
  },
  {
   "cell_type": "code",
   "execution_count": 30,
   "metadata": {
    "collapsed": false
   },
   "outputs": [],
   "source": [
    "json = pd.merge(res, htpr[[\"nom\",\"prenom\",\"link\",\"link_pict\"]], how=\"left\", on=[\"nom\",\"prenom\"])"
   ]
  },
  {
   "cell_type": "code",
   "execution_count": 31,
   "metadata": {
    "collapsed": false
   },
   "outputs": [
    {
     "data": {
      "text/plain": [
       "(577, 16)"
      ]
     },
     "execution_count": 31,
     "metadata": {},
     "output_type": "execute_result"
    }
   ],
   "source": [
    "json.shape"
   ]
  },
  {
   "cell_type": "code",
   "execution_count": 32,
   "metadata": {
    "collapsed": false
   },
   "outputs": [],
   "source": [
    "# 40 NOMS qui déconne à régler\n",
    "json.ix[json[\"Désignation\"]==\"M. AZEROT Bruno Nestor\",\"prenom\"]=\"BRUNO NESTOR\"\n",
    "json.ix[json[\"Désignation\"]==\"M. RATENON Jean Hugues\",\"prenom\"]=\"JEAN HUGUES\"\n",
    "json.ix[json[\"Désignation\"]==\"M. BROTHERSON Moetai, Charles\",\"prenom\"]=\"MOETAI, CHARLES\"\n",
    "\n",
    "json.ix[json[\"Désignation\"]==\"M. EL GUERRAB M'Jid\",\"nom\"]=\"EL GUERRAB\"\n",
    "json.ix[json[\"Désignation\"]==\"M. EL GUERRAB M'Jid\",\"prenom\"]=\"M'JID\"\n",
    "\n",
    "json.ix[json[\"Désignation\"]==\"Mme LAKRAFI Amal Amélia\",\"prenom\"]=\"AMAL AMELIA\"\n",
    "\n",
    "json.ix[json[\"Désignation\"]==\"M. DE LA VERPILLIÈRE Charles\",\"nom\"]=\"DE LA VERPILLIERE\"\n",
    "json.ix[json[\"Désignation\"]==\"M. DE LA VERPILLIÈRE Charles\",\"prenom\"]=\"CHARLES\"\n",
    "\n",
    "json.ix[json[\"Désignation\"]==\"Mme VALETTA ARDISSON Alexandra\",\"nom\"]=\"VALETTA ARDISSON\"\n",
    "json.ix[json[\"Désignation\"]==\"Mme VALETTA ARDISSON Alexandra\",\"prenom\"]=\"ALEXANDRA\"\n",
    "\n",
    "json.ix[json[\"Désignation\"]==\"M. LE VIGOUREUX Fabrice\",\"nom\"]=\"LE VIGOUREUX\"\n",
    "json.ix[json[\"Désignation\"]==\"M. LE VIGOUREUX Fabrice\",\"prenom\"]=\"FABRICE\"\n",
    "\n",
    "json.ix[json[\"Désignation\"]==\"Mme DE COURSON Yolaine\",\"nom\"]=\"DE COURSON\"\n",
    "json.ix[json[\"Désignation\"]==\"Mme DE COURSON Yolaine\",\"prenom\"]=\"YOLAINE\"\n",
    "\n",
    "json.ix[json[\"Désignation\"]==\"M. LE FUR Marc\",\"nom\"]=\"LE FUR\"\n",
    "json.ix[json[\"Désignation\"]==\"M. LE FUR Marc\",\"prenom\"]=\"MARC\"\n",
    "\n",
    "json.ix[json[\"Désignation\"]==\"Mme DE LAVERGNE Célia\",\"nom\"]=\"DE LAVERGNE\"\n",
    "json.ix[json[\"Désignation\"]==\"Mme DE LAVERGNE Célia\",\"prenom\"]=\"CELIA\"\n",
    "\n",
    "json.ix[json[\"Désignation\"]==\"M. LE MAIRE Bruno\",\"nom\"]=\"LE MAIRE\"\n",
    "json.ix[json[\"Désignation\"]==\"M. LE MAIRE Bruno\",\"prenom\"]=\"BRUNO\"\n",
    "\n",
    "json.ix[json[\"Désignation\"]==\"Mme DE LA RAUDIERE Laure\",\"nom\"]=\"DE LA RAUDIERE\"\n",
    "json.ix[json[\"Désignation\"]==\"Mme DE LA RAUDIERE Laure\",\"prenom\"]=\"LAURE\"\n",
    "\n",
    "json.ix[json[\"Désignation\"]==\"Mme LE MEUR Annaïg\",\"nom\"]=\"LE MEUR\"\n",
    "json.ix[json[\"Désignation\"]==\"Mme LE MEUR Annaïg\",\"prenom\"]=\"ANNAIG\"\n",
    "\n",
    "json.ix[json[\"Désignation\"]==\"M. LE GAC Didier\",\"nom\"]=\"LE GAC\"\n",
    "json.ix[json[\"Désignation\"]==\"M. LE GAC Didier\",\"prenom\"]=\"DIDIER\"\n",
    "\n",
    "json.ix[json[\"Désignation\"]==\"Mme LE FEUR Sandrine\",\"nom\"]=\"LE FEUR\"\n",
    "json.ix[json[\"Désignation\"]==\"Mme LE FEUR Sandrine\",\"prenom\"]=\"SANDRINE\"\n",
    "\n",
    "json.ix[json[\"Désignation\"]==\"M. LE BOHEC Gaël\",\"nom\"]=\"LE BOHEC\"\n",
    "json.ix[json[\"Désignation\"]==\"M. LE BOHEC Gaël\",\"prenom\"]=\"GAEL\"\n",
    "\n",
    "json.ix[json[\"Désignation\"]==\"M. DE RUGY François\",\"nom\"]=\"DE RUGY\"\n",
    "json.ix[json[\"Désignation\"]==\"M. DE RUGY François\",\"prenom\"]=\"FRANCOIS\"\n",
    "json.ix[json[\"Désignation\"]==\"Mme EL HAÏRY Sarah\",\"nom\"]=\"EL HAIRY\"\n",
    "json.ix[json[\"Désignation\"]==\"Mme EL HAÏRY Sarah\",\"prenom\"]=\"SARAH\"\n",
    "json.ix[json[\"Désignation\"]==\"Mme DUFEU SCHUBERT Audrey\",\"nom\"]=\"DUFEU SCHUBERT\"\n",
    "json.ix[json[\"Désignation\"]==\"Mme DUFEU SCHUBERT Audrey\",\"prenom\"]=\"AUDREY\"\n",
    "\n",
    "json.ix[json[\"Désignation\"]==\"M. DE GANAY Claude\",\"nom\"]=\"DE GANAY\"\n",
    "json.ix[json[\"Désignation\"]==\"M. DE GANAY Claude\",\"prenom\"]=\"CLAUDE\"\n",
    "json.ix[json[\"Désignation\"]==\"M. MOREL A L'HUISSIER Pierre\",\"nom\"]=\"MOREL A L'HUISSIER\"\n",
    "json.ix[json[\"Désignation\"]==\"M. MOREL A L'HUISSIER Pierre\",\"prenom\"]=\"PIERRE\"\n",
    "json.ix[json[\"Désignation\"]==\"M. DE COURSON Charles\",\"nom\"]=\"DE COURSON\"\n",
    "json.ix[json[\"Désignation\"]==\"M. DE COURSON Charles\",\"prenom\"]=\"CHARLES\"\n",
    "\n",
    "json.ix[json[\"Désignation\"]==\"Mme LE PEIH Nicole\",\"nom\"]=\"LE PEIH\"\n",
    "json.ix[json[\"Désignation\"]==\"Mme LE PEIH Nicole\",\"prenom\"]=\"NICOLE\"\n",
    "json.ix[json[\"Désignation\"]==\"M. DI FILIPPO Fabien\",\"nom\"]=\"DI FILIPPO\"\n",
    "json.ix[json[\"Désignation\"]==\"M. DI FILIPPO Fabien\",\"prenom\"]=\"FABIEN\"\n",
    "json.ix[json[\"Désignation\"]==\"M. DI POMPEO Christophe\",\"nom\"]=\"DI POMPEO\"\n",
    "json.ix[json[\"Désignation\"]==\"M. DI POMPEO Christophe\",\"prenom\"]=\"CHRISTOPHE\"\n",
    "\n",
    "json.ix[json[\"Désignation\"]==\"Mme CATTELOT Anne Laure\",\"prenom\"]=\"ANNE LAURE\"\n",
    "json.ix[json[\"Désignation\"]==\"Mme DE TEMMERMAN Jennifer\",\"nom\"]=\"DE TEMMERMAN\"\n",
    "json.ix[json[\"Désignation\"]==\"Mme DE TEMMERMAN Jennifer\",\"prenom\"]=\"JENNIFER\"\n",
    "json.ix[json[\"Désignation\"]==\"Mme LE PEN Marine\",\"nom\"]=\"LE PEN\"\n",
    "json.ix[json[\"Désignation\"]==\"Mme LE PEN Marine\",\"prenom\"]=\"MARINE\"\n",
    "\n",
    "json.ix[json[\"Désignation\"]==\"Mme PIRÈS BEAUNE Christine\",\"nom\"]=\"PIRES BEAUNE\"\n",
    "json.ix[json[\"Désignation\"]==\"Mme PIRÈS BEAUNE Christine\",\"prenom\"]=\"CHRISTINE\"\n",
    "json.ix[json[\"Désignation\"]==\"Mme BESSOT BALLOT Barbara\",\"nom\"]=\"BESSOT BALLOT\"\n",
    "json.ix[json[\"Désignation\"]==\"Mme BESSOT BALLOT Barbara\",\"prenom\"]=\"BARBARA\"\n",
    "\n",
    "json.ix[json[\"Désignation\"]==\"M. LE FOLL Stéphane\",\"nom\"]=\"LE FOLL\"\n",
    "json.ix[json[\"Désignation\"]==\"M. LE FOLL Stéphane\",\"prenom\"]=\"STEPHANE\"\n",
    "json.ix[json[\"Désignation\"]==\"M. LE GENDRE Gilles\",\"nom\"]=\"LE GENDRE\"\n",
    "json.ix[json[\"Désignation\"]==\"M. LE GENDRE Gilles\",\"prenom\"]=\"GILLES\"\n",
    "\n",
    "json.ix[json[\"Désignation\"]==\"Mme DE SARNEZ Marielle\",\"nom\"]=\"DE SARNEZ\"\n",
    "json.ix[json[\"Désignation\"]==\"Mme DE SARNEZ Marielle\",\"prenom\"]=\"MARIELLE\"\n",
    "json.ix[json[\"Désignation\"]==\"Mme FIRMIN LE BODO Agnès\",\"nom\"]=\"FIRMIN LE BODO\"\n",
    "json.ix[json[\"Désignation\"]==\"Mme FIRMIN LE BODO Agnès\",\"prenom\"]=\"AGNES\"\n",
    "\n",
    "json.ix[json[\"Désignation\"]==\"Mme DE VAUCOULEURS Michèle\",\"nom\"]=\"DE VAUCOULEURS\"\n",
    "json.ix[json[\"Désignation\"]==\"Mme DE VAUCOULEURS Michèle\",\"prenom\"]=\"MICHELE\"\n",
    "json.ix[json[\"Désignation\"]==\"Mme ROMEIRO DIAS Laëtitia\",\"nom\"]=\"ROMEIRO DIAS\"\n",
    "json.ix[json[\"Désignation\"]==\"Mme ROMEIRO DIAS Laëtitia\",\"prenom\"]=\"LAETITIA\"\n",
    "\n",
    "json.ix[json[\"Désignation\"]==\"Mme DE MONTCHALIN Amélie\",\"nom\"]=\"DE MONTCHALIN\"\n",
    "json.ix[json[\"Désignation\"]==\"Mme DE MONTCHALIN Amélie\",\"prenom\"]=\"AMELIE\"\n",
    "json.ix[json[\"Désignation\"]==\"Mme LE GRIP Constance\",\"nom\"]=\"LE GRIP\"\n",
    "json.ix[json[\"Désignation\"]==\"Mme LE GRIP Constance\",\"prenom\"]=\"CONSTANCE\"\n",
    "\n",
    "json.ix[json[\"Désignation\"]==\"M. MBAYE Jean François\",\"nom\"]=\"MBAYE\"\n",
    "json.ix[json[\"Désignation\"]==\"M. MBAYE Jean François\",\"prenom\"]=\"JEAN FRANCOIS\"\n",
    "json.ix[json[\"Désignation\"]==\"M. DA SILVA Dominique\",\"nom\"]=\"DA SILVA\"\n",
    "json.ix[json[\"Désignation\"]==\"M. DA SILVA Dominique\",\"prenom\"]=\"DOMINIQUE\""
   ]
  },
  {
   "cell_type": "code",
   "execution_count": 33,
   "metadata": {
    "collapsed": false
   },
   "outputs": [],
   "source": [
    "json_t = pd.merge(json, df_resultat, on=[\"nom\",\"prenom\"])"
   ]
  },
  {
   "cell_type": "code",
   "execution_count": 34,
   "metadata": {
    "collapsed": false
   },
   "outputs": [
    {
     "data": {
      "text/plain": [
       "(577, 19)"
      ]
     },
     "execution_count": 34,
     "metadata": {},
     "output_type": "execute_result"
    }
   ],
   "source": [
    "json_t.shape"
   ]
  },
  {
   "cell_type": "code",
   "execution_count": 35,
   "metadata": {
    "collapsed": true
   },
   "outputs": [],
   "source": [
    "json_t[\"smart_prof\"] = json_t[\"Profession\"].map(lambda x :x.split(\"-\")[1].strip())"
   ]
  },
  {
   "cell_type": "code",
   "execution_count": 36,
   "metadata": {
    "collapsed": false,
    "scrolled": false
   },
   "outputs": [],
   "source": [
    "json_t[\"corr_dept\"] = json_t[\"Dpt\"]\n",
    "json_t.ix[json_t[\"corr_dept\"]==\"ZA\", \"corr_dept\"]=\"971\"\n",
    "json_t.ix[json_t[\"corr_dept\"]==\"ZB\", \"corr_dept\"]=\"972\"\n",
    "json_t.ix[json_t[\"corr_dept\"]==\"ZC\", \"corr_dept\"]=\"973\"\n",
    "json_t.ix[json_t[\"corr_dept\"]==\"ZD\", \"corr_dept\"]=\"974\"\n",
    "json_t.ix[json_t[\"corr_dept\"]==\"ZM\", \"corr_dept\"]=\"985\"\n",
    "json_t.ix[json_t[\"corr_dept\"]==\"ZN\", \"corr_dept\"]=\"988\"\n",
    "json_t.ix[json_t[\"corr_dept\"]==\"ZP\", \"corr_dept\"]=\"987\"\n",
    "json_t.ix[json_t[\"corr_dept\"]==\"ZS\", \"corr_dept\"]=\"975\"\n",
    "json_t.ix[json_t[\"corr_dept\"]==\"ZW\", \"corr_dept\"]=\"986\"\n",
    "json_t.ix[json_t[\"corr_dept\"]==\"ZX\", \"corr_dept\"]=\"979\"\n",
    "json_t.ix[json_t[\"corr_dept\"]==\"ZZ\", \"corr_dept\"]=\"99\""
   ]
  },
  {
   "cell_type": "code",
   "execution_count": 37,
   "metadata": {
    "collapsed": false
   },
   "outputs": [],
   "source": [
    "json_t[\"new_code\"] = json_t.apply(lambda row : str(row[\"corr_dept\"])+'|'\n",
    "                                  +str(row[\"code\"].split(\"|\")[1]), axis=1)"
   ]
  },
  {
   "cell_type": "code",
   "execution_count": 38,
   "metadata": {
    "collapsed": false
   },
   "outputs": [
    {
     "data": {
      "text/plain": [
       "(577, 22)"
      ]
     },
     "execution_count": 38,
     "metadata": {},
     "output_type": "execute_result"
    }
   ],
   "source": [
    "json_t.shape"
   ]
  },
  {
   "cell_type": "code",
   "execution_count": 39,
   "metadata": {
    "collapsed": false
   },
   "outputs": [],
   "source": [
    "json_2 = pd.read_excel(\"D:/Documents/Projet_fil_rouge/Elections/legislatives/data/comparaison_prediction_reel.xlsx\", skiprows=2)"
   ]
  },
  {
   "cell_type": "code",
   "execution_count": 40,
   "metadata": {
    "collapsed": false,
    "scrolled": true
   },
   "outputs": [
    {
     "data": {
      "text/html": [
       "<div>\n",
       "<table border=\"1\" class=\"dataframe\">\n",
       "  <thead>\n",
       "    <tr style=\"text-align: right;\">\n",
       "      <th></th>\n",
       "      <th>Dpt</th>\n",
       "      <th>N_circo</th>\n",
       "      <th>Code</th>\n",
       "      <th>Unnamed: 3</th>\n",
       "      <th>Unnamed: 4</th>\n",
       "      <th>Désignation</th>\n",
       "      <th>Nuance</th>\n",
       "      <th>Score</th>\n",
       "      <th>Sortant</th>\n",
       "      <th>Perso.</th>\n",
       "      <th>...</th>\n",
       "      <th>Accès T2 ?</th>\n",
       "      <th>Elu ?</th>\n",
       "      <th>circo_leg_meme_nuance</th>\n",
       "      <th>circo_pres_meme_nuance</th>\n",
       "      <th>score_bloc_pres</th>\n",
       "      <th>depute_sortant</th>\n",
       "      <th>ancien_depute</th>\n",
       "      <th>au_gouvernement</th>\n",
       "      <th>ancien_ministre</th>\n",
       "      <th>membre_majorite</th>\n",
       "    </tr>\n",
       "  </thead>\n",
       "  <tbody>\n",
       "    <tr>\n",
       "      <th>0</th>\n",
       "      <td>971</td>\n",
       "      <td>1</td>\n",
       "      <td>971|1</td>\n",
       "      <td>SERVA</td>\n",
       "      <td>Olivier</td>\n",
       "      <td>M. SERVA Olivier</td>\n",
       "      <td>REM</td>\n",
       "      <td>0.6174</td>\n",
       "      <td>NaN</td>\n",
       "      <td>NaN</td>\n",
       "      <td>...</td>\n",
       "      <td>O</td>\n",
       "      <td>O</td>\n",
       "      <td>0.0</td>\n",
       "      <td>1.0</td>\n",
       "      <td>0.179</td>\n",
       "      <td>0.0</td>\n",
       "      <td>0.0</td>\n",
       "      <td>0.0</td>\n",
       "      <td>0.0</td>\n",
       "      <td>1.0</td>\n",
       "    </tr>\n",
       "    <tr>\n",
       "      <th>1</th>\n",
       "      <td>971</td>\n",
       "      <td>2</td>\n",
       "      <td>971|2</td>\n",
       "      <td>BENIN</td>\n",
       "      <td>Justine</td>\n",
       "      <td>Mme BENIN Justine</td>\n",
       "      <td>DVG</td>\n",
       "      <td>0.6426</td>\n",
       "      <td>NaN</td>\n",
       "      <td>NaN</td>\n",
       "      <td>...</td>\n",
       "      <td>N</td>\n",
       "      <td>N</td>\n",
       "      <td>1.0</td>\n",
       "      <td>0.0</td>\n",
       "      <td>0.049</td>\n",
       "      <td>0.0</td>\n",
       "      <td>0.0</td>\n",
       "      <td>0.0</td>\n",
       "      <td>0.0</td>\n",
       "      <td>0.0</td>\n",
       "    </tr>\n",
       "    <tr>\n",
       "      <th>2</th>\n",
       "      <td>971</td>\n",
       "      <td>3</td>\n",
       "      <td>971|3</td>\n",
       "      <td>MATHIASIN</td>\n",
       "      <td>Max</td>\n",
       "      <td>M. MATHIASIN Max</td>\n",
       "      <td>DVG</td>\n",
       "      <td>0.6515</td>\n",
       "      <td>NaN</td>\n",
       "      <td>NaN</td>\n",
       "      <td>...</td>\n",
       "      <td>O</td>\n",
       "      <td>O</td>\n",
       "      <td>1.0</td>\n",
       "      <td>0.0</td>\n",
       "      <td>0.059</td>\n",
       "      <td>0.0</td>\n",
       "      <td>0.0</td>\n",
       "      <td>0.0</td>\n",
       "      <td>0.0</td>\n",
       "      <td>0.0</td>\n",
       "    </tr>\n",
       "    <tr>\n",
       "      <th>3</th>\n",
       "      <td>971</td>\n",
       "      <td>4</td>\n",
       "      <td>971|4</td>\n",
       "      <td>VAINQUEUR-CHRISTOPHE</td>\n",
       "      <td>Hélène</td>\n",
       "      <td>Mme VAINQUEUR-CHRISTOPHE Hélène</td>\n",
       "      <td>SOC</td>\n",
       "      <td>0.6161</td>\n",
       "      <td>NaN</td>\n",
       "      <td>NaN</td>\n",
       "      <td>...</td>\n",
       "      <td>O</td>\n",
       "      <td>O</td>\n",
       "      <td>1.0</td>\n",
       "      <td>0.0</td>\n",
       "      <td>0.070</td>\n",
       "      <td>0.0</td>\n",
       "      <td>0.0</td>\n",
       "      <td>0.0</td>\n",
       "      <td>0.0</td>\n",
       "      <td>0.0</td>\n",
       "    </tr>\n",
       "    <tr>\n",
       "      <th>4</th>\n",
       "      <td>972</td>\n",
       "      <td>1</td>\n",
       "      <td>972|1</td>\n",
       "      <td>MANIN</td>\n",
       "      <td>Josette</td>\n",
       "      <td>Mme MANIN Josette</td>\n",
       "      <td>DVG</td>\n",
       "      <td>0.5489</td>\n",
       "      <td>NaN</td>\n",
       "      <td>NaN</td>\n",
       "      <td>...</td>\n",
       "      <td>N</td>\n",
       "      <td>N</td>\n",
       "      <td>0.0</td>\n",
       "      <td>0.0</td>\n",
       "      <td>0.054</td>\n",
       "      <td>0.0</td>\n",
       "      <td>0.0</td>\n",
       "      <td>0.0</td>\n",
       "      <td>0.0</td>\n",
       "      <td>0.0</td>\n",
       "    </tr>\n",
       "  </tbody>\n",
       "</table>\n",
       "<p>5 rows × 24 columns</p>\n",
       "</div>"
      ],
      "text/plain": [
       "   Dpt  N_circo   Code            Unnamed: 3 Unnamed: 4  \\\n",
       "0  971        1  971|1                 SERVA    Olivier   \n",
       "1  971        2  971|2                 BENIN    Justine   \n",
       "2  971        3  971|3             MATHIASIN        Max   \n",
       "3  971        4  971|4  VAINQUEUR-CHRISTOPHE     Hélène   \n",
       "4  972        1  972|1                 MANIN    Josette   \n",
       "\n",
       "                       Désignation Nuance   Score Sortant Perso.  \\\n",
       "0                 M. SERVA Olivier    REM  0.6174     NaN    NaN   \n",
       "1                Mme BENIN Justine    DVG  0.6426     NaN    NaN   \n",
       "2                 M. MATHIASIN Max    DVG  0.6515     NaN    NaN   \n",
       "3  Mme VAINQUEUR-CHRISTOPHE Hélène    SOC  0.6161     NaN    NaN   \n",
       "4                Mme MANIN Josette    DVG  0.5489     NaN    NaN   \n",
       "\n",
       "        ...        Accès T2 ? Elu ?  circo_leg_meme_nuance  \\\n",
       "0       ...                 O     O                    0.0   \n",
       "1       ...                 N     N                    1.0   \n",
       "2       ...                 O     O                    1.0   \n",
       "3       ...                 O     O                    1.0   \n",
       "4       ...                 N     N                    0.0   \n",
       "\n",
       "   circo_pres_meme_nuance score_bloc_pres depute_sortant  ancien_depute  \\\n",
       "0                     1.0           0.179            0.0            0.0   \n",
       "1                     0.0           0.049            0.0            0.0   \n",
       "2                     0.0           0.059            0.0            0.0   \n",
       "3                     0.0           0.070            0.0            0.0   \n",
       "4                     0.0           0.054            0.0            0.0   \n",
       "\n",
       "   au_gouvernement  ancien_ministre  membre_majorite  \n",
       "0              0.0              0.0              1.0  \n",
       "1              0.0              0.0              0.0  \n",
       "2              0.0              0.0              0.0  \n",
       "3              0.0              0.0              0.0  \n",
       "4              0.0              0.0              0.0  \n",
       "\n",
       "[5 rows x 24 columns]"
      ]
     },
     "execution_count": 40,
     "metadata": {},
     "output_type": "execute_result"
    }
   ],
   "source": [
    "json_2.head()"
   ]
  },
  {
   "cell_type": "code",
   "execution_count": 41,
   "metadata": {
    "collapsed": true
   },
   "outputs": [],
   "source": [
    "json_2 = json_2.rename(columns={\"Code\":\"new_code\",\n",
    "                              '% Tour 1':\"pred_tour_1\",\"Accès T2 ?\":\"pred_acces_2\",\n",
    "                               \"Elu ?\":\"pred_elu\"})"
   ]
  },
  {
   "cell_type": "code",
   "execution_count": 42,
   "metadata": {
    "collapsed": true
   },
   "outputs": [],
   "source": [
    "json_f = pd.merge(json_t, json_2[[\"new_code\", 'pred_tour_1', 'pred_acces_2', 'pred_elu',\n",
    "        'circo_leg_meme_nuance',\n",
    "       'circo_pres_meme_nuance', 'score_bloc_pres', 'depute_sortant',\n",
    "       'ancien_depute', 'au_gouvernement', 'ancien_ministre',\n",
    "       'membre_majorite',]], on=[\"new_code\"])"
   ]
  },
  {
   "cell_type": "code",
   "execution_count": 43,
   "metadata": {
    "collapsed": false
   },
   "outputs": [],
   "source": [
    "data_circo = pd.read_excel(\"D:/Documents/Projet_fil_rouge/Elections/legislatives/data/dataframe_elections.xlsx\")"
   ]
  },
  {
   "cell_type": "code",
   "execution_count": 44,
   "metadata": {
    "collapsed": false
   },
   "outputs": [],
   "source": [
    "data_circo = data_circo[[\"code\",\"revenus_med\",\"inscrits\",\"part_impose\",\"chom_tot\",\"etrangers\"]]"
   ]
  },
  {
   "cell_type": "code",
   "execution_count": 45,
   "metadata": {
    "collapsed": false
   },
   "outputs": [],
   "source": [
    "data_circo = data_circo.drop_duplicates([\"code\"], keep='first')\n",
    "data_circo = data_circo.rename(columns={\"code\":\"new_code\"})"
   ]
  },
  {
   "cell_type": "code",
   "execution_count": 46,
   "metadata": {
    "collapsed": false
   },
   "outputs": [],
   "source": [
    "json_f = pd.merge(json_f, data_circo, on=[\"new_code\"])"
   ]
  },
  {
   "cell_type": "code",
   "execution_count": 47,
   "metadata": {
    "collapsed": false
   },
   "outputs": [
    {
     "data": {
      "text/plain": [
       "(577, 38)"
      ]
     },
     "execution_count": 47,
     "metadata": {},
     "output_type": "execute_result"
    }
   ],
   "source": [
    "json_f.shape"
   ]
  },
  {
   "cell_type": "code",
   "execution_count": 48,
   "metadata": {
    "collapsed": false
   },
   "outputs": [
    {
     "data": {
      "text/plain": [
       "Index(['Dpt', 'Nom_de_la_Circonscription', 'Désignation', 'Nuance', 'Score',\n",
       "       'Sortant', 'Perso.', 'date', 'Profession', 'Tour', 'age', 'nom',\n",
       "       'prenom', 'sexe', 'link', 'link_pict', 'code', 'score_exp', 'score_ins',\n",
       "       'smart_prof', 'corr_dept', 'new_code', 'pred_tour_1', 'pred_acces_2',\n",
       "       'pred_elu', 'circo_leg_meme_nuance', 'circo_pres_meme_nuance',\n",
       "       'score_bloc_pres', 'depute_sortant', 'ancien_depute', 'au_gouvernement',\n",
       "       'ancien_ministre', 'membre_majorite', 'revenus_med', 'inscrits',\n",
       "       'part_impose', 'chom_tot', 'etrangers'],\n",
       "      dtype='object')"
      ]
     },
     "execution_count": 48,
     "metadata": {},
     "output_type": "execute_result"
    }
   ],
   "source": [
    "json_f.columns"
   ]
  },
  {
   "cell_type": "code",
   "execution_count": 49,
   "metadata": {
    "collapsed": false
   },
   "outputs": [],
   "source": [
    "#json_f = json_f.set_index([\"new_code\",'Désignation'])"
   ]
  },
  {
   "cell_type": "code",
   "execution_count": 50,
   "metadata": {
    "collapsed": false,
    "scrolled": true
   },
   "outputs": [
    {
     "data": {
      "text/html": [
       "<div>\n",
       "<table border=\"1\" class=\"dataframe\">\n",
       "  <thead>\n",
       "    <tr style=\"text-align: right;\">\n",
       "      <th></th>\n",
       "      <th>Dpt</th>\n",
       "      <th>Nom_de_la_Circonscription</th>\n",
       "      <th>Désignation</th>\n",
       "      <th>Nuance</th>\n",
       "      <th>Score</th>\n",
       "      <th>Sortant</th>\n",
       "      <th>Perso.</th>\n",
       "      <th>date</th>\n",
       "      <th>Profession</th>\n",
       "      <th>Tour</th>\n",
       "      <th>...</th>\n",
       "      <th>depute_sortant</th>\n",
       "      <th>ancien_depute</th>\n",
       "      <th>au_gouvernement</th>\n",
       "      <th>ancien_ministre</th>\n",
       "      <th>membre_majorite</th>\n",
       "      <th>revenus_med</th>\n",
       "      <th>inscrits</th>\n",
       "      <th>part_impose</th>\n",
       "      <th>chom_tot</th>\n",
       "      <th>etrangers</th>\n",
       "    </tr>\n",
       "  </thead>\n",
       "  <tbody>\n",
       "    <tr>\n",
       "      <th>0</th>\n",
       "      <td>ZA</td>\n",
       "      <td>1ère circonscription</td>\n",
       "      <td>M. SERVA Olivier</td>\n",
       "      <td>REM</td>\n",
       "      <td>61,74 %</td>\n",
       "      <td>NaN</td>\n",
       "      <td>NaN</td>\n",
       "      <td>6/21/74</td>\n",
       "      <td>34 - Expert comptable</td>\n",
       "      <td>2</td>\n",
       "      <td>...</td>\n",
       "      <td>0.0</td>\n",
       "      <td>0.0</td>\n",
       "      <td>0.0</td>\n",
       "      <td>0.0</td>\n",
       "      <td>1.0</td>\n",
       "      <td>11830.0</td>\n",
       "      <td>76361.0</td>\n",
       "      <td>0.3690</td>\n",
       "      <td>0.237</td>\n",
       "      <td>0.0621</td>\n",
       "    </tr>\n",
       "    <tr>\n",
       "      <th>1</th>\n",
       "      <td>ZA</td>\n",
       "      <td>2ème circonscription</td>\n",
       "      <td>Mme BENIN Justine</td>\n",
       "      <td>DVG</td>\n",
       "      <td>64,26 %</td>\n",
       "      <td>NaN</td>\n",
       "      <td>NaN</td>\n",
       "      <td>3/12/75</td>\n",
       "      <td>48 - Fonctionnaire de catégorie B</td>\n",
       "      <td>2</td>\n",
       "      <td>...</td>\n",
       "      <td>0.0</td>\n",
       "      <td>0.0</td>\n",
       "      <td>0.0</td>\n",
       "      <td>0.0</td>\n",
       "      <td>0.0</td>\n",
       "      <td>11830.0</td>\n",
       "      <td>86914.0</td>\n",
       "      <td>0.3690</td>\n",
       "      <td>0.237</td>\n",
       "      <td>0.0621</td>\n",
       "    </tr>\n",
       "    <tr>\n",
       "      <th>2</th>\n",
       "      <td>ZA</td>\n",
       "      <td>3ème circonscription</td>\n",
       "      <td>M. MATHIASIN Max</td>\n",
       "      <td>DVG</td>\n",
       "      <td>65,15 %</td>\n",
       "      <td>NaN</td>\n",
       "      <td>NaN</td>\n",
       "      <td>2/24/56</td>\n",
       "      <td>52 - Employé (autres entrep. publiques)</td>\n",
       "      <td>2</td>\n",
       "      <td>...</td>\n",
       "      <td>0.0</td>\n",
       "      <td>0.0</td>\n",
       "      <td>0.0</td>\n",
       "      <td>0.0</td>\n",
       "      <td>0.0</td>\n",
       "      <td>11830.0</td>\n",
       "      <td>83768.0</td>\n",
       "      <td>0.3690</td>\n",
       "      <td>0.237</td>\n",
       "      <td>0.0621</td>\n",
       "    </tr>\n",
       "    <tr>\n",
       "      <th>3</th>\n",
       "      <td>ZA</td>\n",
       "      <td>4ème circonscription</td>\n",
       "      <td>Mme VAINQUEUR-CHRISTOPHE Hélène</td>\n",
       "      <td>SOC</td>\n",
       "      <td>61,61 %</td>\n",
       "      <td>NaN</td>\n",
       "      <td>NaN</td>\n",
       "      <td>5/6/56</td>\n",
       "      <td>28 - Pharmacien</td>\n",
       "      <td>2</td>\n",
       "      <td>...</td>\n",
       "      <td>0.0</td>\n",
       "      <td>0.0</td>\n",
       "      <td>0.0</td>\n",
       "      <td>0.0</td>\n",
       "      <td>0.0</td>\n",
       "      <td>11830.0</td>\n",
       "      <td>69302.0</td>\n",
       "      <td>0.3690</td>\n",
       "      <td>0.237</td>\n",
       "      <td>0.0621</td>\n",
       "    </tr>\n",
       "    <tr>\n",
       "      <th>4</th>\n",
       "      <td>ZB</td>\n",
       "      <td>1ère circonscription</td>\n",
       "      <td>Mme MANIN Josette</td>\n",
       "      <td>DVG</td>\n",
       "      <td>54,89 %</td>\n",
       "      <td>NaN</td>\n",
       "      <td>NaN</td>\n",
       "      <td>3/16/50</td>\n",
       "      <td>61 - Retraité salarié privé</td>\n",
       "      <td>2</td>\n",
       "      <td>...</td>\n",
       "      <td>0.0</td>\n",
       "      <td>0.0</td>\n",
       "      <td>0.0</td>\n",
       "      <td>0.0</td>\n",
       "      <td>0.0</td>\n",
       "      <td>12709.7</td>\n",
       "      <td>79411.0</td>\n",
       "      <td>0.3801</td>\n",
       "      <td>0.180</td>\n",
       "      <td>0.0621</td>\n",
       "    </tr>\n",
       "  </tbody>\n",
       "</table>\n",
       "<p>5 rows × 38 columns</p>\n",
       "</div>"
      ],
      "text/plain": [
       "  Dpt Nom_de_la_Circonscription                      Désignation Nuance  \\\n",
       "0  ZA      1ère circonscription                 M. SERVA Olivier    REM   \n",
       "1  ZA      2ème circonscription                Mme BENIN Justine    DVG   \n",
       "2  ZA      3ème circonscription                 M. MATHIASIN Max    DVG   \n",
       "3  ZA      4ème circonscription  Mme VAINQUEUR-CHRISTOPHE Hélène    SOC   \n",
       "4  ZB      1ère circonscription                Mme MANIN Josette    DVG   \n",
       "\n",
       "     Score Sortant Perso.     date                               Profession  \\\n",
       "0  61,74 %     NaN    NaN  6/21/74                    34 - Expert comptable   \n",
       "1  64,26 %     NaN    NaN  3/12/75        48 - Fonctionnaire de catégorie B   \n",
       "2  65,15 %     NaN    NaN  2/24/56  52 - Employé (autres entrep. publiques)   \n",
       "3  61,61 %     NaN    NaN   5/6/56                          28 - Pharmacien   \n",
       "4  54,89 %     NaN    NaN  3/16/50              61 - Retraité salarié privé   \n",
       "\n",
       "   Tour    ...     depute_sortant ancien_depute au_gouvernement  \\\n",
       "0     2    ...                0.0           0.0             0.0   \n",
       "1     2    ...                0.0           0.0             0.0   \n",
       "2     2    ...                0.0           0.0             0.0   \n",
       "3     2    ...                0.0           0.0             0.0   \n",
       "4     2    ...                0.0           0.0             0.0   \n",
       "\n",
       "  ancien_ministre membre_majorite revenus_med inscrits  part_impose  chom_tot  \\\n",
       "0             0.0             1.0     11830.0  76361.0       0.3690     0.237   \n",
       "1             0.0             0.0     11830.0  86914.0       0.3690     0.237   \n",
       "2             0.0             0.0     11830.0  83768.0       0.3690     0.237   \n",
       "3             0.0             0.0     11830.0  69302.0       0.3690     0.237   \n",
       "4             0.0             0.0     12709.7  79411.0       0.3801     0.180   \n",
       "\n",
       "  etrangers  \n",
       "0    0.0621  \n",
       "1    0.0621  \n",
       "2    0.0621  \n",
       "3    0.0621  \n",
       "4    0.0621  \n",
       "\n",
       "[5 rows x 38 columns]"
      ]
     },
     "execution_count": 50,
     "metadata": {},
     "output_type": "execute_result"
    }
   ],
   "source": [
    "json_f.head()"
   ]
  },
  {
   "cell_type": "code",
   "execution_count": 51,
   "metadata": {
    "collapsed": true
   },
   "outputs": [],
   "source": [
    "# for div in json_f[\"Nuance\"].unique():\n",
    "#     sub_json = json_f[json_f[\"Nuance\"]==div]\n",
    "#     sub_json.to_json(\"json_viz/json_bloc_\"+div+\".json\", orient=\"index\", force_ascii=False)"
   ]
  },
  {
   "cell_type": "code",
   "execution_count": 52,
   "metadata": {
    "collapsed": true
   },
   "outputs": [],
   "source": [
    "json_f = json_f.rename(columns={\"Nuance\":\"Id\"})"
   ]
  },
  {
   "cell_type": "code",
   "execution_count": 60,
   "metadata": {
    "collapsed": false,
    "scrolled": true
   },
   "outputs": [
    {
     "data": {
      "text/html": [
       "<div>\n",
       "<table border=\"1\" class=\"dataframe\">\n",
       "  <thead>\n",
       "    <tr style=\"text-align: right;\">\n",
       "      <th></th>\n",
       "      <th>sexe_F</th>\n",
       "      <th>sexe_M</th>\n",
       "      <th>categorie_age_30 et -</th>\n",
       "      <th>categorie_age_31-40</th>\n",
       "      <th>categorie_age_41-50</th>\n",
       "      <th>categorie_age_51-60</th>\n",
       "      <th>categorie_age_61-70</th>\n",
       "      <th>categorie_age_71 et +</th>\n",
       "      <th>total_deputes</th>\n",
       "    </tr>\n",
       "  </thead>\n",
       "  <tbody>\n",
       "    <tr>\n",
       "      <th>COM</th>\n",
       "      <td>0.200000</td>\n",
       "      <td>0.800000</td>\n",
       "      <td>0.000000</td>\n",
       "      <td>0.100000</td>\n",
       "      <td>0.300000</td>\n",
       "      <td>0.300000</td>\n",
       "      <td>0.300000</td>\n",
       "      <td>0.000000</td>\n",
       "      <td>10</td>\n",
       "    </tr>\n",
       "    <tr>\n",
       "      <th>DIV</th>\n",
       "      <td>0.333333</td>\n",
       "      <td>0.666667</td>\n",
       "      <td>0.000000</td>\n",
       "      <td>0.666667</td>\n",
       "      <td>0.000000</td>\n",
       "      <td>0.333333</td>\n",
       "      <td>0.000000</td>\n",
       "      <td>0.000000</td>\n",
       "      <td>3</td>\n",
       "    </tr>\n",
       "    <tr>\n",
       "      <th>DLF</th>\n",
       "      <td>0.000000</td>\n",
       "      <td>1.000000</td>\n",
       "      <td>0.000000</td>\n",
       "      <td>0.000000</td>\n",
       "      <td>0.000000</td>\n",
       "      <td>1.000000</td>\n",
       "      <td>0.000000</td>\n",
       "      <td>0.000000</td>\n",
       "      <td>1</td>\n",
       "    </tr>\n",
       "    <tr>\n",
       "      <th>DVD</th>\n",
       "      <td>0.166667</td>\n",
       "      <td>0.833333</td>\n",
       "      <td>0.000000</td>\n",
       "      <td>0.166667</td>\n",
       "      <td>0.500000</td>\n",
       "      <td>0.166667</td>\n",
       "      <td>0.166667</td>\n",
       "      <td>0.000000</td>\n",
       "      <td>6</td>\n",
       "    </tr>\n",
       "    <tr>\n",
       "      <th>DVG</th>\n",
       "      <td>0.250000</td>\n",
       "      <td>0.750000</td>\n",
       "      <td>0.000000</td>\n",
       "      <td>0.000000</td>\n",
       "      <td>0.250000</td>\n",
       "      <td>0.416667</td>\n",
       "      <td>0.333333</td>\n",
       "      <td>0.000000</td>\n",
       "      <td>12</td>\n",
       "    </tr>\n",
       "    <tr>\n",
       "      <th>ECO</th>\n",
       "      <td>0.000000</td>\n",
       "      <td>1.000000</td>\n",
       "      <td>0.000000</td>\n",
       "      <td>0.000000</td>\n",
       "      <td>0.000000</td>\n",
       "      <td>1.000000</td>\n",
       "      <td>0.000000</td>\n",
       "      <td>0.000000</td>\n",
       "      <td>1</td>\n",
       "    </tr>\n",
       "    <tr>\n",
       "      <th>EXD</th>\n",
       "      <td>0.000000</td>\n",
       "      <td>1.000000</td>\n",
       "      <td>0.000000</td>\n",
       "      <td>0.000000</td>\n",
       "      <td>0.000000</td>\n",
       "      <td>0.000000</td>\n",
       "      <td>0.000000</td>\n",
       "      <td>1.000000</td>\n",
       "      <td>1</td>\n",
       "    </tr>\n",
       "    <tr>\n",
       "      <th>FI</th>\n",
       "      <td>0.411765</td>\n",
       "      <td>0.588235</td>\n",
       "      <td>0.176471</td>\n",
       "      <td>0.235294</td>\n",
       "      <td>0.352941</td>\n",
       "      <td>0.176471</td>\n",
       "      <td>0.058824</td>\n",
       "      <td>0.000000</td>\n",
       "      <td>17</td>\n",
       "    </tr>\n",
       "    <tr>\n",
       "      <th>FN</th>\n",
       "      <td>0.250000</td>\n",
       "      <td>0.750000</td>\n",
       "      <td>0.125000</td>\n",
       "      <td>0.125000</td>\n",
       "      <td>0.500000</td>\n",
       "      <td>0.000000</td>\n",
       "      <td>0.125000</td>\n",
       "      <td>0.125000</td>\n",
       "      <td>8</td>\n",
       "    </tr>\n",
       "    <tr>\n",
       "      <th>LR</th>\n",
       "      <td>0.241071</td>\n",
       "      <td>0.758929</td>\n",
       "      <td>0.062500</td>\n",
       "      <td>0.098214</td>\n",
       "      <td>0.214286</td>\n",
       "      <td>0.419643</td>\n",
       "      <td>0.169643</td>\n",
       "      <td>0.035714</td>\n",
       "      <td>112</td>\n",
       "    </tr>\n",
       "    <tr>\n",
       "      <th>MDM</th>\n",
       "      <td>0.452381</td>\n",
       "      <td>0.547619</td>\n",
       "      <td>0.023810</td>\n",
       "      <td>0.071429</td>\n",
       "      <td>0.333333</td>\n",
       "      <td>0.261905</td>\n",
       "      <td>0.309524</td>\n",
       "      <td>0.000000</td>\n",
       "      <td>42</td>\n",
       "    </tr>\n",
       "    <tr>\n",
       "      <th>RDG</th>\n",
       "      <td>1.000000</td>\n",
       "      <td>0.000000</td>\n",
       "      <td>0.000000</td>\n",
       "      <td>0.333333</td>\n",
       "      <td>0.000000</td>\n",
       "      <td>0.666667</td>\n",
       "      <td>0.000000</td>\n",
       "      <td>0.000000</td>\n",
       "      <td>3</td>\n",
       "    </tr>\n",
       "    <tr>\n",
       "      <th>REG</th>\n",
       "      <td>0.000000</td>\n",
       "      <td>1.000000</td>\n",
       "      <td>0.000000</td>\n",
       "      <td>0.000000</td>\n",
       "      <td>0.600000</td>\n",
       "      <td>0.200000</td>\n",
       "      <td>0.000000</td>\n",
       "      <td>0.200000</td>\n",
       "      <td>5</td>\n",
       "    </tr>\n",
       "    <tr>\n",
       "      <th>REM</th>\n",
       "      <td>0.467532</td>\n",
       "      <td>0.532468</td>\n",
       "      <td>0.087662</td>\n",
       "      <td>0.259740</td>\n",
       "      <td>0.331169</td>\n",
       "      <td>0.240260</td>\n",
       "      <td>0.074675</td>\n",
       "      <td>0.006494</td>\n",
       "      <td>308</td>\n",
       "    </tr>\n",
       "    <tr>\n",
       "      <th>SOC</th>\n",
       "      <td>0.400000</td>\n",
       "      <td>0.600000</td>\n",
       "      <td>0.000000</td>\n",
       "      <td>0.033333</td>\n",
       "      <td>0.333333</td>\n",
       "      <td>0.400000</td>\n",
       "      <td>0.233333</td>\n",
       "      <td>0.000000</td>\n",
       "      <td>30</td>\n",
       "    </tr>\n",
       "    <tr>\n",
       "      <th>UDI</th>\n",
       "      <td>0.166667</td>\n",
       "      <td>0.833333</td>\n",
       "      <td>0.000000</td>\n",
       "      <td>0.000000</td>\n",
       "      <td>0.166667</td>\n",
       "      <td>0.666667</td>\n",
       "      <td>0.111111</td>\n",
       "      <td>0.055556</td>\n",
       "      <td>18</td>\n",
       "    </tr>\n",
       "  </tbody>\n",
       "</table>\n",
       "</div>"
      ],
      "text/plain": [
       "       sexe_F    sexe_M  categorie_age_30 et -  categorie_age_31-40  \\\n",
       "COM  0.200000  0.800000               0.000000             0.100000   \n",
       "DIV  0.333333  0.666667               0.000000             0.666667   \n",
       "DLF  0.000000  1.000000               0.000000             0.000000   \n",
       "DVD  0.166667  0.833333               0.000000             0.166667   \n",
       "DVG  0.250000  0.750000               0.000000             0.000000   \n",
       "ECO  0.000000  1.000000               0.000000             0.000000   \n",
       "EXD  0.000000  1.000000               0.000000             0.000000   \n",
       "FI   0.411765  0.588235               0.176471             0.235294   \n",
       "FN   0.250000  0.750000               0.125000             0.125000   \n",
       "LR   0.241071  0.758929               0.062500             0.098214   \n",
       "MDM  0.452381  0.547619               0.023810             0.071429   \n",
       "RDG  1.000000  0.000000               0.000000             0.333333   \n",
       "REG  0.000000  1.000000               0.000000             0.000000   \n",
       "REM  0.467532  0.532468               0.087662             0.259740   \n",
       "SOC  0.400000  0.600000               0.000000             0.033333   \n",
       "UDI  0.166667  0.833333               0.000000             0.000000   \n",
       "\n",
       "     categorie_age_41-50  categorie_age_51-60  categorie_age_61-70  \\\n",
       "COM             0.300000             0.300000             0.300000   \n",
       "DIV             0.000000             0.333333             0.000000   \n",
       "DLF             0.000000             1.000000             0.000000   \n",
       "DVD             0.500000             0.166667             0.166667   \n",
       "DVG             0.250000             0.416667             0.333333   \n",
       "ECO             0.000000             1.000000             0.000000   \n",
       "EXD             0.000000             0.000000             0.000000   \n",
       "FI              0.352941             0.176471             0.058824   \n",
       "FN              0.500000             0.000000             0.125000   \n",
       "LR              0.214286             0.419643             0.169643   \n",
       "MDM             0.333333             0.261905             0.309524   \n",
       "RDG             0.000000             0.666667             0.000000   \n",
       "REG             0.600000             0.200000             0.000000   \n",
       "REM             0.331169             0.240260             0.074675   \n",
       "SOC             0.333333             0.400000             0.233333   \n",
       "UDI             0.166667             0.666667             0.111111   \n",
       "\n",
       "     categorie_age_71 et +  total_deputes  \n",
       "COM               0.000000             10  \n",
       "DIV               0.000000              3  \n",
       "DLF               0.000000              1  \n",
       "DVD               0.000000              6  \n",
       "DVG               0.000000             12  \n",
       "ECO               0.000000              1  \n",
       "EXD               1.000000              1  \n",
       "FI                0.000000             17  \n",
       "FN                0.125000              8  \n",
       "LR                0.035714            112  \n",
       "MDM               0.000000             42  \n",
       "RDG               0.000000              3  \n",
       "REG               0.200000              5  \n",
       "REM               0.006494            308  \n",
       "SOC               0.000000             30  \n",
       "UDI               0.055556             18  "
      ]
     },
     "execution_count": 60,
     "metadata": {},
     "output_type": "execute_result"
    }
   ],
   "source": [
    "# création des statistiques de parti\n",
    "extended_df = pd.get_dummies(json_f, columns=['Profession', 'sexe'])\n",
    "extended_df['categorie_age'] = pd.cut(extended_df['age'], bins=[0, 30, 40, 50, 60, 70, 100],\n",
    "                                      labels=['30 et -', '31-40', '41-50', '51-60', '61-70', '71 et +'])\n",
    "extended_df = pd.get_dummies(extended_df, columns=['categorie_age'])\n",
    "#print(extended_df.columns)\n",
    "df_partis = pd.DataFrame(extended_df.groupby('Id')['sexe_F',\n",
    "       'sexe_M', 'categorie_age_30 et -', 'categorie_age_31-40',\n",
    "       'categorie_age_41-50', 'categorie_age_51-60', 'categorie_age_61-70',\n",
    "       'categorie_age_71 et +'].sum())\n",
    "df_partis = pd.concat([df_partis, pd.DataFrame(extended_df['Id'].value_counts())\n",
    "                       .rename(columns={'Id': 'total_deputes'})], axis=1)\n",
    "\n",
    "for col in df_partis.columns:\n",
    "    if col != 'total_deputes':\n",
    "        df_partis[col] /= df_partis.total_deputes\n",
    "df_partis"
   ]
  },
  {
   "cell_type": "code",
   "execution_count": 61,
   "metadata": {
    "collapsed": true
   },
   "outputs": [],
   "source": [
    "# sauvegarde en format json\n",
    "df_partis.to_csv('stats_partis.csv')\n",
    "# manque les professions"
   ]
  },
  {
   "cell_type": "code",
   "execution_count": null,
   "metadata": {
    "collapsed": true
   },
   "outputs": [],
   "source": []
  }
 ],
 "metadata": {
  "anaconda-cloud": {},
  "kernelspec": {
   "display_name": "Python [default]",
   "language": "python",
   "name": "python3"
  },
  "language_info": {
   "codemirror_mode": {
    "name": "ipython",
    "version": 3
   },
   "file_extension": ".py",
   "mimetype": "text/x-python",
   "name": "python",
   "nbconvert_exporter": "python",
   "pygments_lexer": "ipython3",
   "version": "3.5.2"
  }
 },
 "nbformat": 4,
 "nbformat_minor": 2
}
